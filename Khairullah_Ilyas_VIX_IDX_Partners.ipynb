{
  "cells": [
    {
      "cell_type": "markdown",
      "id": "f19a4575",
      "metadata": {
        "id": "f19a4575"
      },
      "source": [
        "# CREDIT RISK\n",
        "\n",
        "Credit risk adalah kemungkinan resiko yang akan diterima si pemberi pinjaman tidak mendapatkan pengembalian modal dan bunga yang dipinjam secara tepat waktu"
      ]
    },
    {
      "cell_type": "code",
      "execution_count": null,
      "id": "0349a0b1",
      "metadata": {
        "id": "0349a0b1"
      },
      "outputs": [],
      "source": [
        "# Import Library\n",
        "import pandas as pd\n",
        "pd.set_option('display.max_columns', None)\n",
        "import numpy as np\n",
        "import matplotlib.pyplot as plt\n",
        "import seaborn as sns"
      ]
    },
    {
      "cell_type": "code",
      "source": [
        "# Import Dataset\n",
        "from google.colab import drive\n",
        "drive.mount('/content/drive')\n",
        "loan_df = pd.read_csv('/content/drive/MyDrive/Task Colab/loan_data_2007_2014.csv')"
      ],
      "metadata": {
        "colab": {
          "base_uri": "https://localhost:8080/"
        },
        "id": "jQ6-rHjUUGfK",
        "outputId": "461de46f-1f89-4e34-9b49-5fc1560af917"
      },
      "id": "jQ6-rHjUUGfK",
      "execution_count": null,
      "outputs": [
        {
          "output_type": "stream",
          "name": "stdout",
          "text": [
            "Drive already mounted at /content/drive; to attempt to forcibly remount, call drive.mount(\"/content/drive\", force_remount=True).\n"
          ]
        },
        {
          "output_type": "stream",
          "name": "stderr",
          "text": [
            "<ipython-input-52-4caa648570d0>:4: DtypeWarning: Columns (20) have mixed types. Specify dtype option on import or set low_memory=False.\n",
            "  loan_df = pd.read_csv('/content/drive/MyDrive/Task Colab/loan_data_2007_2014.csv')\n"
          ]
        }
      ]
    },
    {
      "cell_type": "code",
      "execution_count": null,
      "id": "3b67e12b",
      "metadata": {
        "colab": {
          "base_uri": "https://localhost:8080/",
          "height": 424
        },
        "id": "3b67e12b",
        "outputId": "e092483e-985b-42d7-8f57-c53a3eaff852"
      },
      "outputs": [
        {
          "output_type": "execute_result",
          "data": {
            "text/plain": [
              "   Unnamed: 0       id  member_id  loan_amnt  funded_amnt  funded_amnt_inv  \\\n",
              "0           0  1077501    1296599       5000         5000           4975.0   \n",
              "1           1  1077430    1314167       2500         2500           2500.0   \n",
              "2           2  1077175    1313524       2400         2400           2400.0   \n",
              "\n",
              "         term  int_rate  installment grade sub_grade emp_title emp_length  \\\n",
              "0   36 months     10.65       162.87     B        B2       NaN  10+ years   \n",
              "1   60 months     15.27        59.83     C        C4     Ryder   < 1 year   \n",
              "2   36 months     15.96        84.33     C        C5       NaN  10+ years   \n",
              "\n",
              "  home_ownership  annual_inc verification_status issue_d  loan_status  \\\n",
              "0           RENT     24000.0            Verified  Dec-11   Fully Paid   \n",
              "1           RENT     30000.0     Source Verified  Dec-11  Charged Off   \n",
              "2           RENT     12252.0        Not Verified  Dec-11   Fully Paid   \n",
              "\n",
              "  pymnt_plan                                                url  \\\n",
              "0          n  https://www.lendingclub.com/browse/loanDetail....   \n",
              "1          n  https://www.lendingclub.com/browse/loanDetail....   \n",
              "2          n  https://www.lendingclub.com/browse/loanDetail....   \n",
              "\n",
              "                                                desc         purpose  \\\n",
              "0    Borrower added on 12/22/11 > I need to upgra...     credit_card   \n",
              "1    Borrower added on 12/22/11 > I plan to use t...             car   \n",
              "2                                                NaN  small_business   \n",
              "\n",
              "                  title zip_code addr_state    dti  delinq_2yrs  \\\n",
              "0              Computer    860xx         AZ  27.65          0.0   \n",
              "1                  bike    309xx         GA   1.00          0.0   \n",
              "2  real estate business    606xx         IL   8.72          0.0   \n",
              "\n",
              "  earliest_cr_line  inq_last_6mths  mths_since_last_delinq  \\\n",
              "0           Jan-85             1.0                     NaN   \n",
              "1           Apr-99             5.0                     NaN   \n",
              "2           Nov-01             2.0                     NaN   \n",
              "\n",
              "   mths_since_last_record  open_acc  pub_rec  revol_bal  revol_util  \\\n",
              "0                     NaN       3.0      0.0      13648        83.7   \n",
              "1                     NaN       3.0      0.0       1687         9.4   \n",
              "2                     NaN       2.0      0.0       2956        98.5   \n",
              "\n",
              "   total_acc initial_list_status  out_prncp  out_prncp_inv  total_pymnt  \\\n",
              "0        9.0                   f        0.0            0.0  5861.071414   \n",
              "1        4.0                   f        0.0            0.0  1008.710000   \n",
              "2       10.0                   f        0.0            0.0  3003.653644   \n",
              "\n",
              "   total_pymnt_inv  total_rec_prncp  total_rec_int  total_rec_late_fee  \\\n",
              "0          5831.78          5000.00         861.07                 0.0   \n",
              "1          1008.71           456.46         435.17                 0.0   \n",
              "2          3003.65          2400.00         603.65                 0.0   \n",
              "\n",
              "   recoveries  collection_recovery_fee last_pymnt_d  last_pymnt_amnt  \\\n",
              "0        0.00                     0.00       Jan-15           171.62   \n",
              "1      117.08                     1.11       Apr-13           119.66   \n",
              "2        0.00                     0.00       Jun-14           649.91   \n",
              "\n",
              "  next_pymnt_d last_credit_pull_d  collections_12_mths_ex_med  \\\n",
              "0          NaN             Jan-16                         0.0   \n",
              "1          NaN             Sep-13                         0.0   \n",
              "2          NaN             Jan-16                         0.0   \n",
              "\n",
              "   mths_since_last_major_derog  policy_code application_type  \\\n",
              "0                          NaN            1       INDIVIDUAL   \n",
              "1                          NaN            1       INDIVIDUAL   \n",
              "2                          NaN            1       INDIVIDUAL   \n",
              "\n",
              "   annual_inc_joint  dti_joint  verification_status_joint  acc_now_delinq  \\\n",
              "0               NaN        NaN                        NaN             0.0   \n",
              "1               NaN        NaN                        NaN             0.0   \n",
              "2               NaN        NaN                        NaN             0.0   \n",
              "\n",
              "   tot_coll_amt  tot_cur_bal  open_acc_6m  open_il_6m  open_il_12m  \\\n",
              "0           NaN          NaN          NaN         NaN          NaN   \n",
              "1           NaN          NaN          NaN         NaN          NaN   \n",
              "2           NaN          NaN          NaN         NaN          NaN   \n",
              "\n",
              "   open_il_24m  mths_since_rcnt_il  total_bal_il  il_util  open_rv_12m  \\\n",
              "0          NaN                 NaN           NaN      NaN          NaN   \n",
              "1          NaN                 NaN           NaN      NaN          NaN   \n",
              "2          NaN                 NaN           NaN      NaN          NaN   \n",
              "\n",
              "   open_rv_24m  max_bal_bc  all_util  total_rev_hi_lim  inq_fi  total_cu_tl  \\\n",
              "0          NaN         NaN       NaN               NaN     NaN          NaN   \n",
              "1          NaN         NaN       NaN               NaN     NaN          NaN   \n",
              "2          NaN         NaN       NaN               NaN     NaN          NaN   \n",
              "\n",
              "   inq_last_12m  \n",
              "0           NaN  \n",
              "1           NaN  \n",
              "2           NaN  "
            ],
            "text/html": [
              "\n",
              "  <div id=\"df-cfaceaeb-f5cb-4fe3-8c1f-cfa921324241\" class=\"colab-df-container\">\n",
              "    <div>\n",
              "<style scoped>\n",
              "    .dataframe tbody tr th:only-of-type {\n",
              "        vertical-align: middle;\n",
              "    }\n",
              "\n",
              "    .dataframe tbody tr th {\n",
              "        vertical-align: top;\n",
              "    }\n",
              "\n",
              "    .dataframe thead th {\n",
              "        text-align: right;\n",
              "    }\n",
              "</style>\n",
              "<table border=\"1\" class=\"dataframe\">\n",
              "  <thead>\n",
              "    <tr style=\"text-align: right;\">\n",
              "      <th></th>\n",
              "      <th>Unnamed: 0</th>\n",
              "      <th>id</th>\n",
              "      <th>member_id</th>\n",
              "      <th>loan_amnt</th>\n",
              "      <th>funded_amnt</th>\n",
              "      <th>funded_amnt_inv</th>\n",
              "      <th>term</th>\n",
              "      <th>int_rate</th>\n",
              "      <th>installment</th>\n",
              "      <th>grade</th>\n",
              "      <th>sub_grade</th>\n",
              "      <th>emp_title</th>\n",
              "      <th>emp_length</th>\n",
              "      <th>home_ownership</th>\n",
              "      <th>annual_inc</th>\n",
              "      <th>verification_status</th>\n",
              "      <th>issue_d</th>\n",
              "      <th>loan_status</th>\n",
              "      <th>pymnt_plan</th>\n",
              "      <th>url</th>\n",
              "      <th>desc</th>\n",
              "      <th>purpose</th>\n",
              "      <th>title</th>\n",
              "      <th>zip_code</th>\n",
              "      <th>addr_state</th>\n",
              "      <th>dti</th>\n",
              "      <th>delinq_2yrs</th>\n",
              "      <th>earliest_cr_line</th>\n",
              "      <th>inq_last_6mths</th>\n",
              "      <th>mths_since_last_delinq</th>\n",
              "      <th>mths_since_last_record</th>\n",
              "      <th>open_acc</th>\n",
              "      <th>pub_rec</th>\n",
              "      <th>revol_bal</th>\n",
              "      <th>revol_util</th>\n",
              "      <th>total_acc</th>\n",
              "      <th>initial_list_status</th>\n",
              "      <th>out_prncp</th>\n",
              "      <th>out_prncp_inv</th>\n",
              "      <th>total_pymnt</th>\n",
              "      <th>total_pymnt_inv</th>\n",
              "      <th>total_rec_prncp</th>\n",
              "      <th>total_rec_int</th>\n",
              "      <th>total_rec_late_fee</th>\n",
              "      <th>recoveries</th>\n",
              "      <th>collection_recovery_fee</th>\n",
              "      <th>last_pymnt_d</th>\n",
              "      <th>last_pymnt_amnt</th>\n",
              "      <th>next_pymnt_d</th>\n",
              "      <th>last_credit_pull_d</th>\n",
              "      <th>collections_12_mths_ex_med</th>\n",
              "      <th>mths_since_last_major_derog</th>\n",
              "      <th>policy_code</th>\n",
              "      <th>application_type</th>\n",
              "      <th>annual_inc_joint</th>\n",
              "      <th>dti_joint</th>\n",
              "      <th>verification_status_joint</th>\n",
              "      <th>acc_now_delinq</th>\n",
              "      <th>tot_coll_amt</th>\n",
              "      <th>tot_cur_bal</th>\n",
              "      <th>open_acc_6m</th>\n",
              "      <th>open_il_6m</th>\n",
              "      <th>open_il_12m</th>\n",
              "      <th>open_il_24m</th>\n",
              "      <th>mths_since_rcnt_il</th>\n",
              "      <th>total_bal_il</th>\n",
              "      <th>il_util</th>\n",
              "      <th>open_rv_12m</th>\n",
              "      <th>open_rv_24m</th>\n",
              "      <th>max_bal_bc</th>\n",
              "      <th>all_util</th>\n",
              "      <th>total_rev_hi_lim</th>\n",
              "      <th>inq_fi</th>\n",
              "      <th>total_cu_tl</th>\n",
              "      <th>inq_last_12m</th>\n",
              "    </tr>\n",
              "  </thead>\n",
              "  <tbody>\n",
              "    <tr>\n",
              "      <th>0</th>\n",
              "      <td>0</td>\n",
              "      <td>1077501</td>\n",
              "      <td>1296599</td>\n",
              "      <td>5000</td>\n",
              "      <td>5000</td>\n",
              "      <td>4975.0</td>\n",
              "      <td>36 months</td>\n",
              "      <td>10.65</td>\n",
              "      <td>162.87</td>\n",
              "      <td>B</td>\n",
              "      <td>B2</td>\n",
              "      <td>NaN</td>\n",
              "      <td>10+ years</td>\n",
              "      <td>RENT</td>\n",
              "      <td>24000.0</td>\n",
              "      <td>Verified</td>\n",
              "      <td>Dec-11</td>\n",
              "      <td>Fully Paid</td>\n",
              "      <td>n</td>\n",
              "      <td>https://www.lendingclub.com/browse/loanDetail....</td>\n",
              "      <td>Borrower added on 12/22/11 &gt; I need to upgra...</td>\n",
              "      <td>credit_card</td>\n",
              "      <td>Computer</td>\n",
              "      <td>860xx</td>\n",
              "      <td>AZ</td>\n",
              "      <td>27.65</td>\n",
              "      <td>0.0</td>\n",
              "      <td>Jan-85</td>\n",
              "      <td>1.0</td>\n",
              "      <td>NaN</td>\n",
              "      <td>NaN</td>\n",
              "      <td>3.0</td>\n",
              "      <td>0.0</td>\n",
              "      <td>13648</td>\n",
              "      <td>83.7</td>\n",
              "      <td>9.0</td>\n",
              "      <td>f</td>\n",
              "      <td>0.0</td>\n",
              "      <td>0.0</td>\n",
              "      <td>5861.071414</td>\n",
              "      <td>5831.78</td>\n",
              "      <td>5000.00</td>\n",
              "      <td>861.07</td>\n",
              "      <td>0.0</td>\n",
              "      <td>0.00</td>\n",
              "      <td>0.00</td>\n",
              "      <td>Jan-15</td>\n",
              "      <td>171.62</td>\n",
              "      <td>NaN</td>\n",
              "      <td>Jan-16</td>\n",
              "      <td>0.0</td>\n",
              "      <td>NaN</td>\n",
              "      <td>1</td>\n",
              "      <td>INDIVIDUAL</td>\n",
              "      <td>NaN</td>\n",
              "      <td>NaN</td>\n",
              "      <td>NaN</td>\n",
              "      <td>0.0</td>\n",
              "      <td>NaN</td>\n",
              "      <td>NaN</td>\n",
              "      <td>NaN</td>\n",
              "      <td>NaN</td>\n",
              "      <td>NaN</td>\n",
              "      <td>NaN</td>\n",
              "      <td>NaN</td>\n",
              "      <td>NaN</td>\n",
              "      <td>NaN</td>\n",
              "      <td>NaN</td>\n",
              "      <td>NaN</td>\n",
              "      <td>NaN</td>\n",
              "      <td>NaN</td>\n",
              "      <td>NaN</td>\n",
              "      <td>NaN</td>\n",
              "      <td>NaN</td>\n",
              "      <td>NaN</td>\n",
              "    </tr>\n",
              "    <tr>\n",
              "      <th>1</th>\n",
              "      <td>1</td>\n",
              "      <td>1077430</td>\n",
              "      <td>1314167</td>\n",
              "      <td>2500</td>\n",
              "      <td>2500</td>\n",
              "      <td>2500.0</td>\n",
              "      <td>60 months</td>\n",
              "      <td>15.27</td>\n",
              "      <td>59.83</td>\n",
              "      <td>C</td>\n",
              "      <td>C4</td>\n",
              "      <td>Ryder</td>\n",
              "      <td>&lt; 1 year</td>\n",
              "      <td>RENT</td>\n",
              "      <td>30000.0</td>\n",
              "      <td>Source Verified</td>\n",
              "      <td>Dec-11</td>\n",
              "      <td>Charged Off</td>\n",
              "      <td>n</td>\n",
              "      <td>https://www.lendingclub.com/browse/loanDetail....</td>\n",
              "      <td>Borrower added on 12/22/11 &gt; I plan to use t...</td>\n",
              "      <td>car</td>\n",
              "      <td>bike</td>\n",
              "      <td>309xx</td>\n",
              "      <td>GA</td>\n",
              "      <td>1.00</td>\n",
              "      <td>0.0</td>\n",
              "      <td>Apr-99</td>\n",
              "      <td>5.0</td>\n",
              "      <td>NaN</td>\n",
              "      <td>NaN</td>\n",
              "      <td>3.0</td>\n",
              "      <td>0.0</td>\n",
              "      <td>1687</td>\n",
              "      <td>9.4</td>\n",
              "      <td>4.0</td>\n",
              "      <td>f</td>\n",
              "      <td>0.0</td>\n",
              "      <td>0.0</td>\n",
              "      <td>1008.710000</td>\n",
              "      <td>1008.71</td>\n",
              "      <td>456.46</td>\n",
              "      <td>435.17</td>\n",
              "      <td>0.0</td>\n",
              "      <td>117.08</td>\n",
              "      <td>1.11</td>\n",
              "      <td>Apr-13</td>\n",
              "      <td>119.66</td>\n",
              "      <td>NaN</td>\n",
              "      <td>Sep-13</td>\n",
              "      <td>0.0</td>\n",
              "      <td>NaN</td>\n",
              "      <td>1</td>\n",
              "      <td>INDIVIDUAL</td>\n",
              "      <td>NaN</td>\n",
              "      <td>NaN</td>\n",
              "      <td>NaN</td>\n",
              "      <td>0.0</td>\n",
              "      <td>NaN</td>\n",
              "      <td>NaN</td>\n",
              "      <td>NaN</td>\n",
              "      <td>NaN</td>\n",
              "      <td>NaN</td>\n",
              "      <td>NaN</td>\n",
              "      <td>NaN</td>\n",
              "      <td>NaN</td>\n",
              "      <td>NaN</td>\n",
              "      <td>NaN</td>\n",
              "      <td>NaN</td>\n",
              "      <td>NaN</td>\n",
              "      <td>NaN</td>\n",
              "      <td>NaN</td>\n",
              "      <td>NaN</td>\n",
              "      <td>NaN</td>\n",
              "      <td>NaN</td>\n",
              "    </tr>\n",
              "    <tr>\n",
              "      <th>2</th>\n",
              "      <td>2</td>\n",
              "      <td>1077175</td>\n",
              "      <td>1313524</td>\n",
              "      <td>2400</td>\n",
              "      <td>2400</td>\n",
              "      <td>2400.0</td>\n",
              "      <td>36 months</td>\n",
              "      <td>15.96</td>\n",
              "      <td>84.33</td>\n",
              "      <td>C</td>\n",
              "      <td>C5</td>\n",
              "      <td>NaN</td>\n",
              "      <td>10+ years</td>\n",
              "      <td>RENT</td>\n",
              "      <td>12252.0</td>\n",
              "      <td>Not Verified</td>\n",
              "      <td>Dec-11</td>\n",
              "      <td>Fully Paid</td>\n",
              "      <td>n</td>\n",
              "      <td>https://www.lendingclub.com/browse/loanDetail....</td>\n",
              "      <td>NaN</td>\n",
              "      <td>small_business</td>\n",
              "      <td>real estate business</td>\n",
              "      <td>606xx</td>\n",
              "      <td>IL</td>\n",
              "      <td>8.72</td>\n",
              "      <td>0.0</td>\n",
              "      <td>Nov-01</td>\n",
              "      <td>2.0</td>\n",
              "      <td>NaN</td>\n",
              "      <td>NaN</td>\n",
              "      <td>2.0</td>\n",
              "      <td>0.0</td>\n",
              "      <td>2956</td>\n",
              "      <td>98.5</td>\n",
              "      <td>10.0</td>\n",
              "      <td>f</td>\n",
              "      <td>0.0</td>\n",
              "      <td>0.0</td>\n",
              "      <td>3003.653644</td>\n",
              "      <td>3003.65</td>\n",
              "      <td>2400.00</td>\n",
              "      <td>603.65</td>\n",
              "      <td>0.0</td>\n",
              "      <td>0.00</td>\n",
              "      <td>0.00</td>\n",
              "      <td>Jun-14</td>\n",
              "      <td>649.91</td>\n",
              "      <td>NaN</td>\n",
              "      <td>Jan-16</td>\n",
              "      <td>0.0</td>\n",
              "      <td>NaN</td>\n",
              "      <td>1</td>\n",
              "      <td>INDIVIDUAL</td>\n",
              "      <td>NaN</td>\n",
              "      <td>NaN</td>\n",
              "      <td>NaN</td>\n",
              "      <td>0.0</td>\n",
              "      <td>NaN</td>\n",
              "      <td>NaN</td>\n",
              "      <td>NaN</td>\n",
              "      <td>NaN</td>\n",
              "      <td>NaN</td>\n",
              "      <td>NaN</td>\n",
              "      <td>NaN</td>\n",
              "      <td>NaN</td>\n",
              "      <td>NaN</td>\n",
              "      <td>NaN</td>\n",
              "      <td>NaN</td>\n",
              "      <td>NaN</td>\n",
              "      <td>NaN</td>\n",
              "      <td>NaN</td>\n",
              "      <td>NaN</td>\n",
              "      <td>NaN</td>\n",
              "      <td>NaN</td>\n",
              "    </tr>\n",
              "  </tbody>\n",
              "</table>\n",
              "</div>\n",
              "    <div class=\"colab-df-buttons\">\n",
              "\n",
              "  <div class=\"colab-df-container\">\n",
              "    <button class=\"colab-df-convert\" onclick=\"convertToInteractive('df-cfaceaeb-f5cb-4fe3-8c1f-cfa921324241')\"\n",
              "            title=\"Convert this dataframe to an interactive table.\"\n",
              "            style=\"display:none;\">\n",
              "\n",
              "  <svg xmlns=\"http://www.w3.org/2000/svg\" height=\"24px\" viewBox=\"0 -960 960 960\">\n",
              "    <path d=\"M120-120v-720h720v720H120Zm60-500h600v-160H180v160Zm220 220h160v-160H400v160Zm0 220h160v-160H400v160ZM180-400h160v-160H180v160Zm440 0h160v-160H620v160ZM180-180h160v-160H180v160Zm440 0h160v-160H620v160Z\"/>\n",
              "  </svg>\n",
              "    </button>\n",
              "\n",
              "  <style>\n",
              "    .colab-df-container {\n",
              "      display:flex;\n",
              "      gap: 12px;\n",
              "    }\n",
              "\n",
              "    .colab-df-convert {\n",
              "      background-color: #E8F0FE;\n",
              "      border: none;\n",
              "      border-radius: 50%;\n",
              "      cursor: pointer;\n",
              "      display: none;\n",
              "      fill: #1967D2;\n",
              "      height: 32px;\n",
              "      padding: 0 0 0 0;\n",
              "      width: 32px;\n",
              "    }\n",
              "\n",
              "    .colab-df-convert:hover {\n",
              "      background-color: #E2EBFA;\n",
              "      box-shadow: 0px 1px 2px rgba(60, 64, 67, 0.3), 0px 1px 3px 1px rgba(60, 64, 67, 0.15);\n",
              "      fill: #174EA6;\n",
              "    }\n",
              "\n",
              "    .colab-df-buttons div {\n",
              "      margin-bottom: 4px;\n",
              "    }\n",
              "\n",
              "    [theme=dark] .colab-df-convert {\n",
              "      background-color: #3B4455;\n",
              "      fill: #D2E3FC;\n",
              "    }\n",
              "\n",
              "    [theme=dark] .colab-df-convert:hover {\n",
              "      background-color: #434B5C;\n",
              "      box-shadow: 0px 1px 3px 1px rgba(0, 0, 0, 0.15);\n",
              "      filter: drop-shadow(0px 1px 2px rgba(0, 0, 0, 0.3));\n",
              "      fill: #FFFFFF;\n",
              "    }\n",
              "  </style>\n",
              "\n",
              "    <script>\n",
              "      const buttonEl =\n",
              "        document.querySelector('#df-cfaceaeb-f5cb-4fe3-8c1f-cfa921324241 button.colab-df-convert');\n",
              "      buttonEl.style.display =\n",
              "        google.colab.kernel.accessAllowed ? 'block' : 'none';\n",
              "\n",
              "      async function convertToInteractive(key) {\n",
              "        const element = document.querySelector('#df-cfaceaeb-f5cb-4fe3-8c1f-cfa921324241');\n",
              "        const dataTable =\n",
              "          await google.colab.kernel.invokeFunction('convertToInteractive',\n",
              "                                                    [key], {});\n",
              "        if (!dataTable) return;\n",
              "\n",
              "        const docLinkHtml = 'Like what you see? Visit the ' +\n",
              "          '<a target=\"_blank\" href=https://colab.research.google.com/notebooks/data_table.ipynb>data table notebook</a>'\n",
              "          + ' to learn more about interactive tables.';\n",
              "        element.innerHTML = '';\n",
              "        dataTable['output_type'] = 'display_data';\n",
              "        await google.colab.output.renderOutput(dataTable, element);\n",
              "        const docLink = document.createElement('div');\n",
              "        docLink.innerHTML = docLinkHtml;\n",
              "        element.appendChild(docLink);\n",
              "      }\n",
              "    </script>\n",
              "  </div>\n",
              "\n",
              "\n",
              "<div id=\"df-bd9cb629-694d-4a9f-991f-5c052bd19c46\">\n",
              "  <button class=\"colab-df-quickchart\" onclick=\"quickchart('df-bd9cb629-694d-4a9f-991f-5c052bd19c46')\"\n",
              "            title=\"Suggest charts\"\n",
              "            style=\"display:none;\">\n",
              "\n",
              "<svg xmlns=\"http://www.w3.org/2000/svg\" height=\"24px\"viewBox=\"0 0 24 24\"\n",
              "     width=\"24px\">\n",
              "    <g>\n",
              "        <path d=\"M19 3H5c-1.1 0-2 .9-2 2v14c0 1.1.9 2 2 2h14c1.1 0 2-.9 2-2V5c0-1.1-.9-2-2-2zM9 17H7v-7h2v7zm4 0h-2V7h2v10zm4 0h-2v-4h2v4z\"/>\n",
              "    </g>\n",
              "</svg>\n",
              "  </button>\n",
              "\n",
              "<style>\n",
              "  .colab-df-quickchart {\n",
              "      --bg-color: #E8F0FE;\n",
              "      --fill-color: #1967D2;\n",
              "      --hover-bg-color: #E2EBFA;\n",
              "      --hover-fill-color: #174EA6;\n",
              "      --disabled-fill-color: #AAA;\n",
              "      --disabled-bg-color: #DDD;\n",
              "  }\n",
              "\n",
              "  [theme=dark] .colab-df-quickchart {\n",
              "      --bg-color: #3B4455;\n",
              "      --fill-color: #D2E3FC;\n",
              "      --hover-bg-color: #434B5C;\n",
              "      --hover-fill-color: #FFFFFF;\n",
              "      --disabled-bg-color: #3B4455;\n",
              "      --disabled-fill-color: #666;\n",
              "  }\n",
              "\n",
              "  .colab-df-quickchart {\n",
              "    background-color: var(--bg-color);\n",
              "    border: none;\n",
              "    border-radius: 50%;\n",
              "    cursor: pointer;\n",
              "    display: none;\n",
              "    fill: var(--fill-color);\n",
              "    height: 32px;\n",
              "    padding: 0;\n",
              "    width: 32px;\n",
              "  }\n",
              "\n",
              "  .colab-df-quickchart:hover {\n",
              "    background-color: var(--hover-bg-color);\n",
              "    box-shadow: 0 1px 2px rgba(60, 64, 67, 0.3), 0 1px 3px 1px rgba(60, 64, 67, 0.15);\n",
              "    fill: var(--button-hover-fill-color);\n",
              "  }\n",
              "\n",
              "  .colab-df-quickchart-complete:disabled,\n",
              "  .colab-df-quickchart-complete:disabled:hover {\n",
              "    background-color: var(--disabled-bg-color);\n",
              "    fill: var(--disabled-fill-color);\n",
              "    box-shadow: none;\n",
              "  }\n",
              "\n",
              "  .colab-df-spinner {\n",
              "    border: 2px solid var(--fill-color);\n",
              "    border-color: transparent;\n",
              "    border-bottom-color: var(--fill-color);\n",
              "    animation:\n",
              "      spin 1s steps(1) infinite;\n",
              "  }\n",
              "\n",
              "  @keyframes spin {\n",
              "    0% {\n",
              "      border-color: transparent;\n",
              "      border-bottom-color: var(--fill-color);\n",
              "      border-left-color: var(--fill-color);\n",
              "    }\n",
              "    20% {\n",
              "      border-color: transparent;\n",
              "      border-left-color: var(--fill-color);\n",
              "      border-top-color: var(--fill-color);\n",
              "    }\n",
              "    30% {\n",
              "      border-color: transparent;\n",
              "      border-left-color: var(--fill-color);\n",
              "      border-top-color: var(--fill-color);\n",
              "      border-right-color: var(--fill-color);\n",
              "    }\n",
              "    40% {\n",
              "      border-color: transparent;\n",
              "      border-right-color: var(--fill-color);\n",
              "      border-top-color: var(--fill-color);\n",
              "    }\n",
              "    60% {\n",
              "      border-color: transparent;\n",
              "      border-right-color: var(--fill-color);\n",
              "    }\n",
              "    80% {\n",
              "      border-color: transparent;\n",
              "      border-right-color: var(--fill-color);\n",
              "      border-bottom-color: var(--fill-color);\n",
              "    }\n",
              "    90% {\n",
              "      border-color: transparent;\n",
              "      border-bottom-color: var(--fill-color);\n",
              "    }\n",
              "  }\n",
              "</style>\n",
              "\n",
              "  <script>\n",
              "    async function quickchart(key) {\n",
              "      const quickchartButtonEl =\n",
              "        document.querySelector('#' + key + ' button');\n",
              "      quickchartButtonEl.disabled = true;  // To prevent multiple clicks.\n",
              "      quickchartButtonEl.classList.add('colab-df-spinner');\n",
              "      try {\n",
              "        const charts = await google.colab.kernel.invokeFunction(\n",
              "            'suggestCharts', [key], {});\n",
              "      } catch (error) {\n",
              "        console.error('Error during call to suggestCharts:', error);\n",
              "      }\n",
              "      quickchartButtonEl.classList.remove('colab-df-spinner');\n",
              "      quickchartButtonEl.classList.add('colab-df-quickchart-complete');\n",
              "    }\n",
              "    (() => {\n",
              "      let quickchartButtonEl =\n",
              "        document.querySelector('#df-bd9cb629-694d-4a9f-991f-5c052bd19c46 button');\n",
              "      quickchartButtonEl.style.display =\n",
              "        google.colab.kernel.accessAllowed ? 'block' : 'none';\n",
              "    })();\n",
              "  </script>\n",
              "</div>\n",
              "    </div>\n",
              "  </div>\n"
            ]
          },
          "metadata": {},
          "execution_count": 53
        }
      ],
      "source": [
        "loan_df.head(3)"
      ]
    },
    {
      "cell_type": "code",
      "execution_count": null,
      "id": "5e2fa847",
      "metadata": {
        "colab": {
          "base_uri": "https://localhost:8080/"
        },
        "id": "5e2fa847",
        "outputId": "9f06aa32-43ae-42a0-ab32-7aa7ff65226f"
      },
      "outputs": [
        {
          "output_type": "execute_result",
          "data": {
            "text/plain": [
              "(466285, 75)"
            ]
          },
          "metadata": {},
          "execution_count": 54
        }
      ],
      "source": [
        "loan_df.shape"
      ]
    },
    {
      "cell_type": "markdown",
      "id": "af8aec5c",
      "metadata": {
        "id": "af8aec5c"
      },
      "source": [
        "Dataset sangat besar sehingga diperlukan proses untuk menyederhanakan dataset agar tidak menghasilkan model yang bias"
      ]
    },
    {
      "cell_type": "code",
      "source": [
        "loan_df.info()"
      ],
      "metadata": {
        "colab": {
          "base_uri": "https://localhost:8080/"
        },
        "id": "JT3R-suHQz9x",
        "outputId": "5bbb5c0b-5a80-4e1e-efa2-152c87a1f54f"
      },
      "id": "JT3R-suHQz9x",
      "execution_count": null,
      "outputs": [
        {
          "output_type": "stream",
          "name": "stdout",
          "text": [
            "<class 'pandas.core.frame.DataFrame'>\n",
            "RangeIndex: 466285 entries, 0 to 466284\n",
            "Data columns (total 75 columns):\n",
            " #   Column                       Non-Null Count   Dtype  \n",
            "---  ------                       --------------   -----  \n",
            " 0   Unnamed: 0                   466285 non-null  int64  \n",
            " 1   id                           466285 non-null  int64  \n",
            " 2   member_id                    466285 non-null  int64  \n",
            " 3   loan_amnt                    466285 non-null  int64  \n",
            " 4   funded_amnt                  466285 non-null  int64  \n",
            " 5   funded_amnt_inv              466285 non-null  float64\n",
            " 6   term                         466285 non-null  object \n",
            " 7   int_rate                     466285 non-null  float64\n",
            " 8   installment                  466285 non-null  float64\n",
            " 9   grade                        466285 non-null  object \n",
            " 10  sub_grade                    466285 non-null  object \n",
            " 11  emp_title                    438697 non-null  object \n",
            " 12  emp_length                   445277 non-null  object \n",
            " 13  home_ownership               466285 non-null  object \n",
            " 14  annual_inc                   466281 non-null  float64\n",
            " 15  verification_status          466285 non-null  object \n",
            " 16  issue_d                      466285 non-null  object \n",
            " 17  loan_status                  466285 non-null  object \n",
            " 18  pymnt_plan                   466285 non-null  object \n",
            " 19  url                          466285 non-null  object \n",
            " 20  desc                         125983 non-null  object \n",
            " 21  purpose                      466285 non-null  object \n",
            " 22  title                        466265 non-null  object \n",
            " 23  zip_code                     466285 non-null  object \n",
            " 24  addr_state                   466285 non-null  object \n",
            " 25  dti                          466285 non-null  float64\n",
            " 26  delinq_2yrs                  466256 non-null  float64\n",
            " 27  earliest_cr_line             466256 non-null  object \n",
            " 28  inq_last_6mths               466256 non-null  float64\n",
            " 29  mths_since_last_delinq       215934 non-null  float64\n",
            " 30  mths_since_last_record       62638 non-null   float64\n",
            " 31  open_acc                     466256 non-null  float64\n",
            " 32  pub_rec                      466256 non-null  float64\n",
            " 33  revol_bal                    466285 non-null  int64  \n",
            " 34  revol_util                   465945 non-null  float64\n",
            " 35  total_acc                    466256 non-null  float64\n",
            " 36  initial_list_status          466285 non-null  object \n",
            " 37  out_prncp                    466285 non-null  float64\n",
            " 38  out_prncp_inv                466285 non-null  float64\n",
            " 39  total_pymnt                  466285 non-null  float64\n",
            " 40  total_pymnt_inv              466285 non-null  float64\n",
            " 41  total_rec_prncp              466285 non-null  float64\n",
            " 42  total_rec_int                466285 non-null  float64\n",
            " 43  total_rec_late_fee           466285 non-null  float64\n",
            " 44  recoveries                   466285 non-null  float64\n",
            " 45  collection_recovery_fee      466285 non-null  float64\n",
            " 46  last_pymnt_d                 465909 non-null  object \n",
            " 47  last_pymnt_amnt              466285 non-null  float64\n",
            " 48  next_pymnt_d                 239071 non-null  object \n",
            " 49  last_credit_pull_d           466243 non-null  object \n",
            " 50  collections_12_mths_ex_med   466140 non-null  float64\n",
            " 51  mths_since_last_major_derog  98974 non-null   float64\n",
            " 52  policy_code                  466285 non-null  int64  \n",
            " 53  application_type             466285 non-null  object \n",
            " 54  annual_inc_joint             0 non-null       float64\n",
            " 55  dti_joint                    0 non-null       float64\n",
            " 56  verification_status_joint    0 non-null       float64\n",
            " 57  acc_now_delinq               466256 non-null  float64\n",
            " 58  tot_coll_amt                 396009 non-null  float64\n",
            " 59  tot_cur_bal                  396009 non-null  float64\n",
            " 60  open_acc_6m                  0 non-null       float64\n",
            " 61  open_il_6m                   0 non-null       float64\n",
            " 62  open_il_12m                  0 non-null       float64\n",
            " 63  open_il_24m                  0 non-null       float64\n",
            " 64  mths_since_rcnt_il           0 non-null       float64\n",
            " 65  total_bal_il                 0 non-null       float64\n",
            " 66  il_util                      0 non-null       float64\n",
            " 67  open_rv_12m                  0 non-null       float64\n",
            " 68  open_rv_24m                  0 non-null       float64\n",
            " 69  max_bal_bc                   0 non-null       float64\n",
            " 70  all_util                     0 non-null       float64\n",
            " 71  total_rev_hi_lim             396009 non-null  float64\n",
            " 72  inq_fi                       0 non-null       float64\n",
            " 73  total_cu_tl                  0 non-null       float64\n",
            " 74  inq_last_12m                 0 non-null       float64\n",
            "dtypes: float64(46), int64(7), object(22)\n",
            "memory usage: 266.8+ MB\n"
          ]
        }
      ]
    },
    {
      "cell_type": "markdown",
      "id": "cb515793",
      "metadata": {
        "id": "cb515793"
      },
      "source": [
        "## Data Preprocessing"
      ]
    },
    {
      "cell_type": "markdown",
      "id": "9f7c2ea4",
      "metadata": {
        "id": "9f7c2ea4"
      },
      "source": [
        "#### Imputation\n",
        "Kolom yang berkaitan dengan identitas dihapus"
      ]
    },
    {
      "cell_type": "code",
      "execution_count": null,
      "id": "4b8f2f42",
      "metadata": {
        "id": "4b8f2f42"
      },
      "outputs": [],
      "source": [
        "loan_df.drop(['Unnamed: 0','id','member_id'],axis=1,inplace=True)"
      ]
    },
    {
      "cell_type": "markdown",
      "id": "dacc99d2",
      "metadata": {
        "id": "dacc99d2"
      },
      "source": [
        "Kolom-kolom lain yang berhubungan dengan identitas seperti alamat dan kode pos dihapus."
      ]
    },
    {
      "cell_type": "code",
      "execution_count": null,
      "id": "9f73022f",
      "metadata": {
        "id": "9f73022f"
      },
      "outputs": [],
      "source": [
        "drop_kol = ['application_type','verification_status','zip_code','title','url','addr_state','emp_title']\n",
        "loan_df.drop(columns=drop_kol,axis=1,inplace=True)"
      ]
    },
    {
      "cell_type": "code",
      "execution_count": null,
      "id": "af2ec6cf",
      "metadata": {
        "colab": {
          "base_uri": "https://localhost:8080/"
        },
        "id": "af2ec6cf",
        "outputId": "19f16ea3-1e19-4714-b4e1-8d9d734c230b"
      },
      "outputs": [
        {
          "output_type": "stream",
          "name": "stdout",
          "text": [
            "loan_amnt\n",
            "False    466285\n",
            "Name: loan_amnt, dtype: int64\n",
            "\n",
            "funded_amnt\n",
            "False    466285\n",
            "Name: funded_amnt, dtype: int64\n",
            "\n",
            "funded_amnt_inv\n",
            "False    466285\n",
            "Name: funded_amnt_inv, dtype: int64\n",
            "\n",
            "term\n",
            "False    466285\n",
            "Name: term, dtype: int64\n",
            "\n",
            "int_rate\n",
            "False    466285\n",
            "Name: int_rate, dtype: int64\n",
            "\n",
            "installment\n",
            "False    466285\n",
            "Name: installment, dtype: int64\n",
            "\n",
            "grade\n",
            "False    466285\n",
            "Name: grade, dtype: int64\n",
            "\n",
            "sub_grade\n",
            "False    466285\n",
            "Name: sub_grade, dtype: int64\n",
            "\n",
            "emp_length\n",
            "False    445277\n",
            "True      21008\n",
            "Name: emp_length, dtype: int64\n",
            "\n",
            "home_ownership\n",
            "False    466285\n",
            "Name: home_ownership, dtype: int64\n",
            "\n",
            "annual_inc\n",
            "False    466281\n",
            "True          4\n",
            "Name: annual_inc, dtype: int64\n",
            "\n",
            "issue_d\n",
            "False    466285\n",
            "Name: issue_d, dtype: int64\n",
            "\n",
            "loan_status\n",
            "False    466285\n",
            "Name: loan_status, dtype: int64\n",
            "\n",
            "pymnt_plan\n",
            "False    466285\n",
            "Name: pymnt_plan, dtype: int64\n",
            "\n",
            "desc\n",
            "True     340302\n",
            "False    125983\n",
            "Name: desc, dtype: int64\n",
            "\n",
            "purpose\n",
            "False    466285\n",
            "Name: purpose, dtype: int64\n",
            "\n",
            "dti\n",
            "False    466285\n",
            "Name: dti, dtype: int64\n",
            "\n",
            "delinq_2yrs\n",
            "False    466256\n",
            "True         29\n",
            "Name: delinq_2yrs, dtype: int64\n",
            "\n",
            "earliest_cr_line\n",
            "False    466256\n",
            "True         29\n",
            "Name: earliest_cr_line, dtype: int64\n",
            "\n",
            "inq_last_6mths\n",
            "False    466256\n",
            "True         29\n",
            "Name: inq_last_6mths, dtype: int64\n",
            "\n",
            "mths_since_last_delinq\n",
            "True     250351\n",
            "False    215934\n",
            "Name: mths_since_last_delinq, dtype: int64\n",
            "\n",
            "mths_since_last_record\n",
            "True     403647\n",
            "False     62638\n",
            "Name: mths_since_last_record, dtype: int64\n",
            "\n",
            "open_acc\n",
            "False    466256\n",
            "True         29\n",
            "Name: open_acc, dtype: int64\n",
            "\n",
            "pub_rec\n",
            "False    466256\n",
            "True         29\n",
            "Name: pub_rec, dtype: int64\n",
            "\n",
            "revol_bal\n",
            "False    466285\n",
            "Name: revol_bal, dtype: int64\n",
            "\n",
            "revol_util\n",
            "False    465945\n",
            "True        340\n",
            "Name: revol_util, dtype: int64\n",
            "\n",
            "total_acc\n",
            "False    466256\n",
            "True         29\n",
            "Name: total_acc, dtype: int64\n",
            "\n",
            "initial_list_status\n",
            "False    466285\n",
            "Name: initial_list_status, dtype: int64\n",
            "\n",
            "out_prncp\n",
            "False    466285\n",
            "Name: out_prncp, dtype: int64\n",
            "\n",
            "out_prncp_inv\n",
            "False    466285\n",
            "Name: out_prncp_inv, dtype: int64\n",
            "\n",
            "total_pymnt\n",
            "False    466285\n",
            "Name: total_pymnt, dtype: int64\n",
            "\n",
            "total_pymnt_inv\n",
            "False    466285\n",
            "Name: total_pymnt_inv, dtype: int64\n",
            "\n",
            "total_rec_prncp\n",
            "False    466285\n",
            "Name: total_rec_prncp, dtype: int64\n",
            "\n",
            "total_rec_int\n",
            "False    466285\n",
            "Name: total_rec_int, dtype: int64\n",
            "\n",
            "total_rec_late_fee\n",
            "False    466285\n",
            "Name: total_rec_late_fee, dtype: int64\n",
            "\n",
            "recoveries\n",
            "False    466285\n",
            "Name: recoveries, dtype: int64\n",
            "\n",
            "collection_recovery_fee\n",
            "False    466285\n",
            "Name: collection_recovery_fee, dtype: int64\n",
            "\n",
            "last_pymnt_d\n",
            "False    465909\n",
            "True        376\n",
            "Name: last_pymnt_d, dtype: int64\n",
            "\n",
            "last_pymnt_amnt\n",
            "False    466285\n",
            "Name: last_pymnt_amnt, dtype: int64\n",
            "\n",
            "next_pymnt_d\n",
            "False    239071\n",
            "True     227214\n",
            "Name: next_pymnt_d, dtype: int64\n",
            "\n",
            "last_credit_pull_d\n",
            "False    466243\n",
            "True         42\n",
            "Name: last_credit_pull_d, dtype: int64\n",
            "\n",
            "collections_12_mths_ex_med\n",
            "False    466140\n",
            "True        145\n",
            "Name: collections_12_mths_ex_med, dtype: int64\n",
            "\n",
            "mths_since_last_major_derog\n",
            "True     367311\n",
            "False     98974\n",
            "Name: mths_since_last_major_derog, dtype: int64\n",
            "\n",
            "policy_code\n",
            "False    466285\n",
            "Name: policy_code, dtype: int64\n",
            "\n",
            "annual_inc_joint\n",
            "True    466285\n",
            "Name: annual_inc_joint, dtype: int64\n",
            "\n",
            "dti_joint\n",
            "True    466285\n",
            "Name: dti_joint, dtype: int64\n",
            "\n",
            "verification_status_joint\n",
            "True    466285\n",
            "Name: verification_status_joint, dtype: int64\n",
            "\n",
            "acc_now_delinq\n",
            "False    466256\n",
            "True         29\n",
            "Name: acc_now_delinq, dtype: int64\n",
            "\n",
            "tot_coll_amt\n",
            "False    396009\n",
            "True      70276\n",
            "Name: tot_coll_amt, dtype: int64\n",
            "\n",
            "tot_cur_bal\n",
            "False    396009\n",
            "True      70276\n",
            "Name: tot_cur_bal, dtype: int64\n",
            "\n",
            "open_acc_6m\n",
            "True    466285\n",
            "Name: open_acc_6m, dtype: int64\n",
            "\n",
            "open_il_6m\n",
            "True    466285\n",
            "Name: open_il_6m, dtype: int64\n",
            "\n",
            "open_il_12m\n",
            "True    466285\n",
            "Name: open_il_12m, dtype: int64\n",
            "\n",
            "open_il_24m\n",
            "True    466285\n",
            "Name: open_il_24m, dtype: int64\n",
            "\n",
            "mths_since_rcnt_il\n",
            "True    466285\n",
            "Name: mths_since_rcnt_il, dtype: int64\n",
            "\n",
            "total_bal_il\n",
            "True    466285\n",
            "Name: total_bal_il, dtype: int64\n",
            "\n",
            "il_util\n",
            "True    466285\n",
            "Name: il_util, dtype: int64\n",
            "\n",
            "open_rv_12m\n",
            "True    466285\n",
            "Name: open_rv_12m, dtype: int64\n",
            "\n",
            "open_rv_24m\n",
            "True    466285\n",
            "Name: open_rv_24m, dtype: int64\n",
            "\n",
            "max_bal_bc\n",
            "True    466285\n",
            "Name: max_bal_bc, dtype: int64\n",
            "\n",
            "all_util\n",
            "True    466285\n",
            "Name: all_util, dtype: int64\n",
            "\n",
            "total_rev_hi_lim\n",
            "False    396009\n",
            "True      70276\n",
            "Name: total_rev_hi_lim, dtype: int64\n",
            "\n",
            "inq_fi\n",
            "True    466285\n",
            "Name: inq_fi, dtype: int64\n",
            "\n",
            "total_cu_tl\n",
            "True    466285\n",
            "Name: total_cu_tl, dtype: int64\n",
            "\n",
            "inq_last_12m\n",
            "True    466285\n",
            "Name: inq_last_12m, dtype: int64\n",
            "\n"
          ]
        }
      ],
      "source": [
        "missing_data = loan_df.isna()\n",
        "for kolom in missing_data.columns.values.tolist():\n",
        "    print(kolom)\n",
        "    print(missing_data[kolom].value_counts())\n",
        "    print(\"\")"
      ]
    },
    {
      "cell_type": "markdown",
      "source": [
        "Menghapus kolom yang memiliki satu nilai saja atau didominasi satu nilai dalam satu kolom dan kolom yang tidak terlalu berhubungan dengan target variable"
      ],
      "metadata": {
        "id": "_FlPSfEDqnNd"
      },
      "id": "_FlPSfEDqnNd"
    },
    {
      "cell_type": "code",
      "source": [
        "miss_kolom = ['sub_grade','purpose','pymnt_plan']\n",
        "loan_df = loan_df.drop(miss_kolom, axis=1)"
      ],
      "metadata": {
        "id": "2qw5ATNnqmbc"
      },
      "id": "2qw5ATNnqmbc",
      "execution_count": null,
      "outputs": []
    },
    {
      "cell_type": "code",
      "execution_count": null,
      "id": "fa94e9a7",
      "metadata": {
        "colab": {
          "base_uri": "https://localhost:8080/",
          "height": 739
        },
        "id": "fa94e9a7",
        "outputId": "d4055477-e534-4098-d69d-cf5d898e7ea9"
      },
      "outputs": [
        {
          "output_type": "execute_result",
          "data": {
            "text/plain": [
              "                                    0\n",
              "desc                         0.729815\n",
              "mths_since_last_delinq       0.536906\n",
              "mths_since_last_record       0.865666\n",
              "next_pymnt_d                 0.487286\n",
              "mths_since_last_major_derog  0.787739\n",
              "annual_inc_joint             1.000000\n",
              "dti_joint                    1.000000\n",
              "verification_status_joint    1.000000\n",
              "open_acc_6m                  1.000000\n",
              "open_il_6m                   1.000000\n",
              "open_il_12m                  1.000000\n",
              "open_il_24m                  1.000000\n",
              "mths_since_rcnt_il           1.000000\n",
              "total_bal_il                 1.000000\n",
              "il_util                      1.000000\n",
              "open_rv_12m                  1.000000\n",
              "open_rv_24m                  1.000000\n",
              "max_bal_bc                   1.000000\n",
              "all_util                     1.000000\n",
              "inq_fi                       1.000000\n",
              "total_cu_tl                  1.000000\n",
              "inq_last_12m                 1.000000"
            ],
            "text/html": [
              "\n",
              "  <div id=\"df-2789ffee-1b59-4890-9eed-d98162179ed3\" class=\"colab-df-container\">\n",
              "    <div>\n",
              "<style scoped>\n",
              "    .dataframe tbody tr th:only-of-type {\n",
              "        vertical-align: middle;\n",
              "    }\n",
              "\n",
              "    .dataframe tbody tr th {\n",
              "        vertical-align: top;\n",
              "    }\n",
              "\n",
              "    .dataframe thead th {\n",
              "        text-align: right;\n",
              "    }\n",
              "</style>\n",
              "<table border=\"1\" class=\"dataframe\">\n",
              "  <thead>\n",
              "    <tr style=\"text-align: right;\">\n",
              "      <th></th>\n",
              "      <th>0</th>\n",
              "    </tr>\n",
              "  </thead>\n",
              "  <tbody>\n",
              "    <tr>\n",
              "      <th>desc</th>\n",
              "      <td>0.729815</td>\n",
              "    </tr>\n",
              "    <tr>\n",
              "      <th>mths_since_last_delinq</th>\n",
              "      <td>0.536906</td>\n",
              "    </tr>\n",
              "    <tr>\n",
              "      <th>mths_since_last_record</th>\n",
              "      <td>0.865666</td>\n",
              "    </tr>\n",
              "    <tr>\n",
              "      <th>next_pymnt_d</th>\n",
              "      <td>0.487286</td>\n",
              "    </tr>\n",
              "    <tr>\n",
              "      <th>mths_since_last_major_derog</th>\n",
              "      <td>0.787739</td>\n",
              "    </tr>\n",
              "    <tr>\n",
              "      <th>annual_inc_joint</th>\n",
              "      <td>1.000000</td>\n",
              "    </tr>\n",
              "    <tr>\n",
              "      <th>dti_joint</th>\n",
              "      <td>1.000000</td>\n",
              "    </tr>\n",
              "    <tr>\n",
              "      <th>verification_status_joint</th>\n",
              "      <td>1.000000</td>\n",
              "    </tr>\n",
              "    <tr>\n",
              "      <th>open_acc_6m</th>\n",
              "      <td>1.000000</td>\n",
              "    </tr>\n",
              "    <tr>\n",
              "      <th>open_il_6m</th>\n",
              "      <td>1.000000</td>\n",
              "    </tr>\n",
              "    <tr>\n",
              "      <th>open_il_12m</th>\n",
              "      <td>1.000000</td>\n",
              "    </tr>\n",
              "    <tr>\n",
              "      <th>open_il_24m</th>\n",
              "      <td>1.000000</td>\n",
              "    </tr>\n",
              "    <tr>\n",
              "      <th>mths_since_rcnt_il</th>\n",
              "      <td>1.000000</td>\n",
              "    </tr>\n",
              "    <tr>\n",
              "      <th>total_bal_il</th>\n",
              "      <td>1.000000</td>\n",
              "    </tr>\n",
              "    <tr>\n",
              "      <th>il_util</th>\n",
              "      <td>1.000000</td>\n",
              "    </tr>\n",
              "    <tr>\n",
              "      <th>open_rv_12m</th>\n",
              "      <td>1.000000</td>\n",
              "    </tr>\n",
              "    <tr>\n",
              "      <th>open_rv_24m</th>\n",
              "      <td>1.000000</td>\n",
              "    </tr>\n",
              "    <tr>\n",
              "      <th>max_bal_bc</th>\n",
              "      <td>1.000000</td>\n",
              "    </tr>\n",
              "    <tr>\n",
              "      <th>all_util</th>\n",
              "      <td>1.000000</td>\n",
              "    </tr>\n",
              "    <tr>\n",
              "      <th>inq_fi</th>\n",
              "      <td>1.000000</td>\n",
              "    </tr>\n",
              "    <tr>\n",
              "      <th>total_cu_tl</th>\n",
              "      <td>1.000000</td>\n",
              "    </tr>\n",
              "    <tr>\n",
              "      <th>inq_last_12m</th>\n",
              "      <td>1.000000</td>\n",
              "    </tr>\n",
              "  </tbody>\n",
              "</table>\n",
              "</div>\n",
              "    <div class=\"colab-df-buttons\">\n",
              "\n",
              "  <div class=\"colab-df-container\">\n",
              "    <button class=\"colab-df-convert\" onclick=\"convertToInteractive('df-2789ffee-1b59-4890-9eed-d98162179ed3')\"\n",
              "            title=\"Convert this dataframe to an interactive table.\"\n",
              "            style=\"display:none;\">\n",
              "\n",
              "  <svg xmlns=\"http://www.w3.org/2000/svg\" height=\"24px\" viewBox=\"0 -960 960 960\">\n",
              "    <path d=\"M120-120v-720h720v720H120Zm60-500h600v-160H180v160Zm220 220h160v-160H400v160Zm0 220h160v-160H400v160ZM180-400h160v-160H180v160Zm440 0h160v-160H620v160ZM180-180h160v-160H180v160Zm440 0h160v-160H620v160Z\"/>\n",
              "  </svg>\n",
              "    </button>\n",
              "\n",
              "  <style>\n",
              "    .colab-df-container {\n",
              "      display:flex;\n",
              "      gap: 12px;\n",
              "    }\n",
              "\n",
              "    .colab-df-convert {\n",
              "      background-color: #E8F0FE;\n",
              "      border: none;\n",
              "      border-radius: 50%;\n",
              "      cursor: pointer;\n",
              "      display: none;\n",
              "      fill: #1967D2;\n",
              "      height: 32px;\n",
              "      padding: 0 0 0 0;\n",
              "      width: 32px;\n",
              "    }\n",
              "\n",
              "    .colab-df-convert:hover {\n",
              "      background-color: #E2EBFA;\n",
              "      box-shadow: 0px 1px 2px rgba(60, 64, 67, 0.3), 0px 1px 3px 1px rgba(60, 64, 67, 0.15);\n",
              "      fill: #174EA6;\n",
              "    }\n",
              "\n",
              "    .colab-df-buttons div {\n",
              "      margin-bottom: 4px;\n",
              "    }\n",
              "\n",
              "    [theme=dark] .colab-df-convert {\n",
              "      background-color: #3B4455;\n",
              "      fill: #D2E3FC;\n",
              "    }\n",
              "\n",
              "    [theme=dark] .colab-df-convert:hover {\n",
              "      background-color: #434B5C;\n",
              "      box-shadow: 0px 1px 3px 1px rgba(0, 0, 0, 0.15);\n",
              "      filter: drop-shadow(0px 1px 2px rgba(0, 0, 0, 0.3));\n",
              "      fill: #FFFFFF;\n",
              "    }\n",
              "  </style>\n",
              "\n",
              "    <script>\n",
              "      const buttonEl =\n",
              "        document.querySelector('#df-2789ffee-1b59-4890-9eed-d98162179ed3 button.colab-df-convert');\n",
              "      buttonEl.style.display =\n",
              "        google.colab.kernel.accessAllowed ? 'block' : 'none';\n",
              "\n",
              "      async function convertToInteractive(key) {\n",
              "        const element = document.querySelector('#df-2789ffee-1b59-4890-9eed-d98162179ed3');\n",
              "        const dataTable =\n",
              "          await google.colab.kernel.invokeFunction('convertToInteractive',\n",
              "                                                    [key], {});\n",
              "        if (!dataTable) return;\n",
              "\n",
              "        const docLinkHtml = 'Like what you see? Visit the ' +\n",
              "          '<a target=\"_blank\" href=https://colab.research.google.com/notebooks/data_table.ipynb>data table notebook</a>'\n",
              "          + ' to learn more about interactive tables.';\n",
              "        element.innerHTML = '';\n",
              "        dataTable['output_type'] = 'display_data';\n",
              "        await google.colab.output.renderOutput(dataTable, element);\n",
              "        const docLink = document.createElement('div');\n",
              "        docLink.innerHTML = docLinkHtml;\n",
              "        element.appendChild(docLink);\n",
              "      }\n",
              "    </script>\n",
              "  </div>\n",
              "\n",
              "\n",
              "<div id=\"df-154ccf9e-ec10-460f-80a9-45214005cba4\">\n",
              "  <button class=\"colab-df-quickchart\" onclick=\"quickchart('df-154ccf9e-ec10-460f-80a9-45214005cba4')\"\n",
              "            title=\"Suggest charts\"\n",
              "            style=\"display:none;\">\n",
              "\n",
              "<svg xmlns=\"http://www.w3.org/2000/svg\" height=\"24px\"viewBox=\"0 0 24 24\"\n",
              "     width=\"24px\">\n",
              "    <g>\n",
              "        <path d=\"M19 3H5c-1.1 0-2 .9-2 2v14c0 1.1.9 2 2 2h14c1.1 0 2-.9 2-2V5c0-1.1-.9-2-2-2zM9 17H7v-7h2v7zm4 0h-2V7h2v10zm4 0h-2v-4h2v4z\"/>\n",
              "    </g>\n",
              "</svg>\n",
              "  </button>\n",
              "\n",
              "<style>\n",
              "  .colab-df-quickchart {\n",
              "      --bg-color: #E8F0FE;\n",
              "      --fill-color: #1967D2;\n",
              "      --hover-bg-color: #E2EBFA;\n",
              "      --hover-fill-color: #174EA6;\n",
              "      --disabled-fill-color: #AAA;\n",
              "      --disabled-bg-color: #DDD;\n",
              "  }\n",
              "\n",
              "  [theme=dark] .colab-df-quickchart {\n",
              "      --bg-color: #3B4455;\n",
              "      --fill-color: #D2E3FC;\n",
              "      --hover-bg-color: #434B5C;\n",
              "      --hover-fill-color: #FFFFFF;\n",
              "      --disabled-bg-color: #3B4455;\n",
              "      --disabled-fill-color: #666;\n",
              "  }\n",
              "\n",
              "  .colab-df-quickchart {\n",
              "    background-color: var(--bg-color);\n",
              "    border: none;\n",
              "    border-radius: 50%;\n",
              "    cursor: pointer;\n",
              "    display: none;\n",
              "    fill: var(--fill-color);\n",
              "    height: 32px;\n",
              "    padding: 0;\n",
              "    width: 32px;\n",
              "  }\n",
              "\n",
              "  .colab-df-quickchart:hover {\n",
              "    background-color: var(--hover-bg-color);\n",
              "    box-shadow: 0 1px 2px rgba(60, 64, 67, 0.3), 0 1px 3px 1px rgba(60, 64, 67, 0.15);\n",
              "    fill: var(--button-hover-fill-color);\n",
              "  }\n",
              "\n",
              "  .colab-df-quickchart-complete:disabled,\n",
              "  .colab-df-quickchart-complete:disabled:hover {\n",
              "    background-color: var(--disabled-bg-color);\n",
              "    fill: var(--disabled-fill-color);\n",
              "    box-shadow: none;\n",
              "  }\n",
              "\n",
              "  .colab-df-spinner {\n",
              "    border: 2px solid var(--fill-color);\n",
              "    border-color: transparent;\n",
              "    border-bottom-color: var(--fill-color);\n",
              "    animation:\n",
              "      spin 1s steps(1) infinite;\n",
              "  }\n",
              "\n",
              "  @keyframes spin {\n",
              "    0% {\n",
              "      border-color: transparent;\n",
              "      border-bottom-color: var(--fill-color);\n",
              "      border-left-color: var(--fill-color);\n",
              "    }\n",
              "    20% {\n",
              "      border-color: transparent;\n",
              "      border-left-color: var(--fill-color);\n",
              "      border-top-color: var(--fill-color);\n",
              "    }\n",
              "    30% {\n",
              "      border-color: transparent;\n",
              "      border-left-color: var(--fill-color);\n",
              "      border-top-color: var(--fill-color);\n",
              "      border-right-color: var(--fill-color);\n",
              "    }\n",
              "    40% {\n",
              "      border-color: transparent;\n",
              "      border-right-color: var(--fill-color);\n",
              "      border-top-color: var(--fill-color);\n",
              "    }\n",
              "    60% {\n",
              "      border-color: transparent;\n",
              "      border-right-color: var(--fill-color);\n",
              "    }\n",
              "    80% {\n",
              "      border-color: transparent;\n",
              "      border-right-color: var(--fill-color);\n",
              "      border-bottom-color: var(--fill-color);\n",
              "    }\n",
              "    90% {\n",
              "      border-color: transparent;\n",
              "      border-bottom-color: var(--fill-color);\n",
              "    }\n",
              "  }\n",
              "</style>\n",
              "\n",
              "  <script>\n",
              "    async function quickchart(key) {\n",
              "      const quickchartButtonEl =\n",
              "        document.querySelector('#' + key + ' button');\n",
              "      quickchartButtonEl.disabled = true;  // To prevent multiple clicks.\n",
              "      quickchartButtonEl.classList.add('colab-df-spinner');\n",
              "      try {\n",
              "        const charts = await google.colab.kernel.invokeFunction(\n",
              "            'suggestCharts', [key], {});\n",
              "      } catch (error) {\n",
              "        console.error('Error during call to suggestCharts:', error);\n",
              "      }\n",
              "      quickchartButtonEl.classList.remove('colab-df-spinner');\n",
              "      quickchartButtonEl.classList.add('colab-df-quickchart-complete');\n",
              "    }\n",
              "    (() => {\n",
              "      let quickchartButtonEl =\n",
              "        document.querySelector('#df-154ccf9e-ec10-460f-80a9-45214005cba4 button');\n",
              "      quickchartButtonEl.style.display =\n",
              "        google.colab.kernel.accessAllowed ? 'block' : 'none';\n",
              "    })();\n",
              "  </script>\n",
              "</div>\n",
              "    </div>\n",
              "  </div>\n"
            ]
          },
          "metadata": {},
          "execution_count": 60
        }
      ],
      "source": [
        "missing_val = pd.DataFrame(missing_data.sum()/loan_df.shape[0])\n",
        "missing_val = missing_val[missing_val.iloc[:,0]>0.3]\n",
        "missing_val"
      ]
    },
    {
      "cell_type": "markdown",
      "id": "0ab5d3d5",
      "metadata": {
        "id": "0ab5d3d5"
      },
      "source": [
        "Terdapat 22 kolom yang memiliki data kosong yang melebihi 30%\n",
        "sehingga agar tidak menimbulkan bias pada model yang\n",
        "dihasilkan, kolom-kolom tersebut dihapus"
      ]
    },
    {
      "cell_type": "code",
      "execution_count": null,
      "id": "041c3e32",
      "metadata": {
        "id": "041c3e32"
      },
      "outputs": [],
      "source": [
        "missing = missing_val.index.tolist() # kolom missing\n",
        "loan_df.drop(missing,axis=1,inplace=True)"
      ]
    },
    {
      "cell_type": "code",
      "source": [
        "# Mengecek apakah masih ada kolom yang memiliki data kosong\n",
        "loan_df.isnull().sum()"
      ],
      "metadata": {
        "colab": {
          "base_uri": "https://localhost:8080/"
        },
        "id": "UD0aKFhwZ16L",
        "outputId": "739ae865-cb48-4100-c3e6-5ccb3d71d058"
      },
      "id": "UD0aKFhwZ16L",
      "execution_count": null,
      "outputs": [
        {
          "output_type": "execute_result",
          "data": {
            "text/plain": [
              "loan_amnt                         0\n",
              "funded_amnt                       0\n",
              "funded_amnt_inv                   0\n",
              "term                              0\n",
              "int_rate                          0\n",
              "installment                       0\n",
              "grade                             0\n",
              "emp_length                    21008\n",
              "home_ownership                    0\n",
              "annual_inc                        4\n",
              "issue_d                           0\n",
              "loan_status                       0\n",
              "dti                               0\n",
              "delinq_2yrs                      29\n",
              "earliest_cr_line                 29\n",
              "inq_last_6mths                   29\n",
              "open_acc                         29\n",
              "pub_rec                          29\n",
              "revol_bal                         0\n",
              "revol_util                      340\n",
              "total_acc                        29\n",
              "initial_list_status               0\n",
              "out_prncp                         0\n",
              "out_prncp_inv                     0\n",
              "total_pymnt                       0\n",
              "total_pymnt_inv                   0\n",
              "total_rec_prncp                   0\n",
              "total_rec_int                     0\n",
              "total_rec_late_fee                0\n",
              "recoveries                        0\n",
              "collection_recovery_fee           0\n",
              "last_pymnt_d                    376\n",
              "last_pymnt_amnt                   0\n",
              "last_credit_pull_d               42\n",
              "collections_12_mths_ex_med      145\n",
              "policy_code                       0\n",
              "acc_now_delinq                   29\n",
              "tot_coll_amt                  70276\n",
              "tot_cur_bal                   70276\n",
              "total_rev_hi_lim              70276\n",
              "dtype: int64"
            ]
          },
          "metadata": {},
          "execution_count": 62
        }
      ]
    },
    {
      "cell_type": "code",
      "source": [
        "# Mengganti data kosong dengan nilai rerata\n",
        "loan_df['annual_inc'].replace(np.nan,loan_df['annual_inc'].mean(),inplace=True)\n",
        "loan_df['revol_util'].replace(np.nan,loan_df['revol_util'].mean(),inplace=True)\n",
        "loan_df['total_acc'].replace(np.nan,loan_df['total_acc'].mean(),inplace=True)\n",
        "loan_df['tot_cur_bal'].replace(np.nan,loan_df['tot_cur_bal'].mean(),inplace=True)\n",
        "loan_df['total_rev_hi_lim'].replace(np.nan,loan_df['total_rev_hi_lim'].mean(),inplace=True)\n",
        "\n",
        "# Mengganti data kosong dengan nilai terbanyak\n",
        "loan_df['delinq_2yrs'].replace(np.nan,loan_df['delinq_2yrs'].value_counts().idxmax(),inplace=True)\n",
        "loan_df['inq_last_6mths'].replace(np.nan,loan_df['inq_last_6mths'].value_counts().idxmax(),inplace=True)\n",
        "loan_df['open_acc'].replace(np.nan,loan_df['open_acc'].value_counts().idxmax(),inplace=True)\n",
        "loan_df['emp_length'].replace(np.nan,loan_df['emp_length'].value_counts().idxmax(),inplace=True)\n",
        "loan_df['earliest_cr_line'].replace(np.nan,loan_df['earliest_cr_line'].value_counts().idxmax(),inplace=True)\n",
        "loan_df['last_pymnt_d'].replace(np.nan,loan_df['last_pymnt_d'].value_counts().idxmax(),inplace=True)\n",
        "loan_df['last_credit_pull_d'].replace(np.nan,loan_df['last_credit_pull_d'].value_counts().idxmax(),inplace=True)\n",
        "loan_df['collections_12_mths_ex_med'].replace(np.nan,loan_df['collections_12_mths_ex_med'].value_counts().idxmax(),inplace=True)\n",
        "loan_df['acc_now_delinq'].replace(np.nan,loan_df['acc_now_delinq'].value_counts().idxmax(),inplace=True)\n",
        "loan_df['tot_coll_amt'].replace(np.nan,loan_df['tot_coll_amt'].value_counts().idxmax(),inplace=True)"
      ],
      "metadata": {
        "id": "EvOXfd-oYiOd"
      },
      "id": "EvOXfd-oYiOd",
      "execution_count": null,
      "outputs": []
    },
    {
      "cell_type": "code",
      "source": [
        "loan_df['pub_rec'].value_counts()\n",
        "# kolom \"pub_rec\" memiliki satu value yang sangat dominan dibanding value-value yang lain sehingga lebih baik kolom ini dihapus saja\n",
        "loan_df.drop('pub_rec',axis=1,inplace=True)"
      ],
      "metadata": {
        "id": "vtDZTOwOYn2y"
      },
      "id": "vtDZTOwOYn2y",
      "execution_count": null,
      "outputs": []
    },
    {
      "cell_type": "code",
      "source": [
        "# Mengecek kembali apakah masih ada kolom yang kosong\n",
        "loan_df.isnull().sum()"
      ],
      "metadata": {
        "colab": {
          "base_uri": "https://localhost:8080/"
        },
        "id": "DHoWx1W2YpTd",
        "outputId": "315f673c-1d4a-4e9b-8621-8e9908eb0d8a"
      },
      "id": "DHoWx1W2YpTd",
      "execution_count": null,
      "outputs": [
        {
          "output_type": "execute_result",
          "data": {
            "text/plain": [
              "loan_amnt                     0\n",
              "funded_amnt                   0\n",
              "funded_amnt_inv               0\n",
              "term                          0\n",
              "int_rate                      0\n",
              "installment                   0\n",
              "grade                         0\n",
              "emp_length                    0\n",
              "home_ownership                0\n",
              "annual_inc                    0\n",
              "issue_d                       0\n",
              "loan_status                   0\n",
              "dti                           0\n",
              "delinq_2yrs                   0\n",
              "earliest_cr_line              0\n",
              "inq_last_6mths                0\n",
              "open_acc                      0\n",
              "revol_bal                     0\n",
              "revol_util                    0\n",
              "total_acc                     0\n",
              "initial_list_status           0\n",
              "out_prncp                     0\n",
              "out_prncp_inv                 0\n",
              "total_pymnt                   0\n",
              "total_pymnt_inv               0\n",
              "total_rec_prncp               0\n",
              "total_rec_int                 0\n",
              "total_rec_late_fee            0\n",
              "recoveries                    0\n",
              "collection_recovery_fee       0\n",
              "last_pymnt_d                  0\n",
              "last_pymnt_amnt               0\n",
              "last_credit_pull_d            0\n",
              "collections_12_mths_ex_med    0\n",
              "policy_code                   0\n",
              "acc_now_delinq                0\n",
              "tot_coll_amt                  0\n",
              "tot_cur_bal                   0\n",
              "total_rev_hi_lim              0\n",
              "dtype: int64"
            ]
          },
          "metadata": {},
          "execution_count": 65
        }
      ]
    },
    {
      "cell_type": "markdown",
      "source": [
        "#### Data Formatting"
      ],
      "metadata": {
        "id": "G-zoHiSKev3z"
      },
      "id": "G-zoHiSKev3z"
    },
    {
      "cell_type": "code",
      "execution_count": null,
      "id": "e0b98a67",
      "metadata": {
        "scrolled": false,
        "colab": {
          "base_uri": "https://localhost:8080/"
        },
        "id": "e0b98a67",
        "outputId": "6c8c495e-f9e5-4762-f3c4-147d26834e7c"
      },
      "outputs": [
        {
          "output_type": "stream",
          "name": "stdout",
          "text": [
            "term\n",
            " 36 months    337953\n",
            " 60 months    128332\n",
            "Name: term, dtype: int64\n",
            "\n",
            "grade\n",
            "B    136929\n",
            "C    125293\n",
            "D     76888\n",
            "A     74867\n",
            "E     35757\n",
            "F     13229\n",
            "G      3322\n",
            "Name: grade, dtype: int64\n",
            "\n",
            "emp_length\n",
            "10+ years    171057\n",
            "2 years       41373\n",
            "3 years       36596\n",
            "< 1 year      36265\n",
            "5 years       30774\n",
            "1 year        29622\n",
            "4 years       28023\n",
            "7 years       26180\n",
            "6 years       26112\n",
            "8 years       22395\n",
            "9 years       17888\n",
            "Name: emp_length, dtype: int64\n",
            "\n",
            "home_ownership\n",
            "MORTGAGE    235875\n",
            "RENT        188473\n",
            "OWN          41704\n",
            "OTHER          182\n",
            "NONE            50\n",
            "ANY              1\n",
            "Name: home_ownership, dtype: int64\n",
            "\n",
            "issue_d\n",
            "Oct-14    38782\n",
            "Jul-14    29306\n",
            "Nov-14    25054\n",
            "May-14    19099\n",
            "Apr-14    19071\n",
            "          ...  \n",
            "Aug-07       74\n",
            "Jul-07       63\n",
            "Sep-08       57\n",
            "Sep-07       53\n",
            "Jun-07       24\n",
            "Name: issue_d, Length: 91, dtype: int64\n",
            "\n",
            "loan_status\n",
            "Current                                                224226\n",
            "Fully Paid                                             184739\n",
            "Charged Off                                             42475\n",
            "Late (31-120 days)                                       6900\n",
            "In Grace Period                                          3146\n",
            "Does not meet the credit policy. Status:Fully Paid       1988\n",
            "Late (16-30 days)                                        1218\n",
            "Default                                                   832\n",
            "Does not meet the credit policy. Status:Charged Off       761\n",
            "Name: loan_status, dtype: int64\n",
            "\n",
            "earliest_cr_line\n",
            "Oct-00    3703\n",
            "Aug-00    3597\n",
            "Aug-01    3455\n",
            "Oct-99    3406\n",
            "Oct-01    3329\n",
            "          ... \n",
            "Jul-55       1\n",
            "Feb-57       1\n",
            "Oct-54       1\n",
            "May-53       1\n",
            "Nov-56       1\n",
            "Name: earliest_cr_line, Length: 664, dtype: int64\n",
            "\n",
            "initial_list_status\n",
            "f    303005\n",
            "w    163280\n",
            "Name: initial_list_status, dtype: int64\n",
            "\n",
            "last_pymnt_d\n",
            "Jan-16    179996\n",
            "Dec-15     62000\n",
            "Jul-15     11703\n",
            "Oct-15     11248\n",
            "Sep-15     10204\n",
            "           ...  \n",
            "Jun-08        20\n",
            "Mar-08        18\n",
            "Jan-08        11\n",
            "Feb-08         8\n",
            "Dec-07         2\n",
            "Name: last_pymnt_d, Length: 98, dtype: int64\n",
            "\n",
            "last_credit_pull_d\n",
            "Jan-16    327741\n",
            "Dec-15     13992\n",
            "Nov-15      8384\n",
            "Sep-15      8051\n",
            "Oct-15      7957\n",
            "           ...  \n",
            "Nov-07         3\n",
            "May-08         1\n",
            "Jun-08         1\n",
            "Jul-08         1\n",
            "Jul-07         1\n",
            "Name: last_credit_pull_d, Length: 103, dtype: int64\n",
            "\n"
          ]
        }
      ],
      "source": [
        "for kolom in loan_df.select_dtypes(include=['object']).columns :\n",
        "    print(kolom)\n",
        "    print(loan_df[kolom].value_counts())\n",
        "    print()"
      ]
    },
    {
      "cell_type": "code",
      "execution_count": null,
      "id": "5ea9d417",
      "metadata": {
        "colab": {
          "base_uri": "https://localhost:8080/"
        },
        "id": "5ea9d417",
        "outputId": "5ea92056-59a1-473c-b55a-69ce03f28d0c"
      },
      "outputs": [
        {
          "output_type": "execute_result",
          "data": {
            "text/plain": [
              "0         36\n",
              "1         60\n",
              "2         36\n",
              "3         36\n",
              "4         60\n",
              "          ..\n",
              "466280    60\n",
              "466281    60\n",
              "466282    60\n",
              "466283    36\n",
              "466284    36\n",
              "Name: term, Length: 466285, dtype: int64"
            ]
          },
          "metadata": {},
          "execution_count": 67
        }
      ],
      "source": [
        "loan_df['term'] = loan_df['term'].apply(lambda x: int(x.split()[0]))\n",
        "loan_df['term']"
      ]
    },
    {
      "cell_type": "code",
      "source": [
        "loan_df['emp_length'] = loan_df['emp_length'].replace(to_replace='10+ years',value=10)\n",
        "loan_df['emp_length'] = loan_df['emp_length'].replace(to_replace='< 1 year',value=0)\n",
        "loan_df['emp_length'] = loan_df['emp_length'].replace(to_replace='.years',value='',regex=True)\n",
        "loan_df['emp_length'] = loan_df['emp_length'].replace(to_replace='.year',value='',regex=True)\n",
        "loan_df['emp_length'].astype('float')"
      ],
      "metadata": {
        "colab": {
          "base_uri": "https://localhost:8080/"
        },
        "id": "V5zHmq_qY2VD",
        "outputId": "e45b4305-79a6-43af-f793-27bb3f950dde"
      },
      "id": "V5zHmq_qY2VD",
      "execution_count": null,
      "outputs": [
        {
          "output_type": "execute_result",
          "data": {
            "text/plain": [
              "0         10.0\n",
              "1          0.0\n",
              "2         10.0\n",
              "3         10.0\n",
              "4          1.0\n",
              "          ... \n",
              "466280     4.0\n",
              "466281    10.0\n",
              "466282     7.0\n",
              "466283     3.0\n",
              "466284    10.0\n",
              "Name: emp_length, Length: 466285, dtype: float64"
            ]
          },
          "metadata": {},
          "execution_count": 68
        }
      ]
    },
    {
      "cell_type": "code",
      "source": [
        "# Mengubah format kolom menjadi tipe data datetime\n",
        "kolom_tanggal = ['issue_d','earliest_cr_line','last_pymnt_d','last_credit_pull_d']\n",
        "for kolom in kolom_tanggal :\n",
        "  loan_df[kolom] = pd.to_datetime(loan_df[kolom],format=('%b-%y'))"
      ],
      "metadata": {
        "id": "LeOCcaFnR3tG"
      },
      "id": "LeOCcaFnR3tG",
      "execution_count": null,
      "outputs": []
    },
    {
      "cell_type": "markdown",
      "source": [
        "Data dalam format tanggal diubah menjadi format dengan angka integer. Hal ini dilakukan dengan menghitung jumlah hari yang berlalu sejak tanggal yang tercantum di dalam data set. Tanggal yang digunakan sebagai tanggal referensi adalah tanggal 2018-01-01."
      ],
      "metadata": {
        "id": "3gYVvGVvVcUN"
      },
      "id": "3gYVvGVvVcUN"
    },
    {
      "cell_type": "markdown",
      "source": [
        "###### last_credit_pull_d"
      ],
      "metadata": {
        "id": "rVE0FZw86usU"
      },
      "id": "rVE0FZw86usU"
    },
    {
      "cell_type": "code",
      "source": [
        "loan_df['mths_since_last_credit_pull_d'] = round(pd.to_numeric((pd.to_datetime('2018-01-01') - loan_df['last_credit_pull_d']) / np.timedelta64(1, 'M')))\n",
        "loan_df['mths_since_last_credit_pull_d'].describe()"
      ],
      "metadata": {
        "colab": {
          "base_uri": "https://localhost:8080/"
        },
        "id": "ZZuoL8PzUj-1",
        "outputId": "9ba21078-63a7-46ff-de1d-4650ebb93a48"
      },
      "id": "ZZuoL8PzUj-1",
      "execution_count": null,
      "outputs": [
        {
          "output_type": "execute_result",
          "data": {
            "text/plain": [
              "count    466285.000000\n",
              "mean         28.045223\n",
              "std           9.636066\n",
              "min          24.000000\n",
              "25%          24.000000\n",
              "50%          24.000000\n",
              "75%          26.000000\n",
              "max         128.000000\n",
              "Name: mths_since_last_credit_pull_d, dtype: float64"
            ]
          },
          "metadata": {},
          "execution_count": 70
        }
      ]
    },
    {
      "cell_type": "code",
      "source": [
        "loan_df.drop('last_credit_pull_d',axis=1,inplace=True)"
      ],
      "metadata": {
        "id": "St-yWKz4Wh8w"
      },
      "id": "St-yWKz4Wh8w",
      "execution_count": null,
      "outputs": []
    },
    {
      "cell_type": "markdown",
      "source": [
        "###### last_pymnt_d"
      ],
      "metadata": {
        "id": "T4SQ1xtA653f"
      },
      "id": "T4SQ1xtA653f"
    },
    {
      "cell_type": "code",
      "source": [
        "loan_df['mths_since_last_pymnt_d'] = round(pd.to_numeric((pd.to_datetime('2018-01-01') - loan_df['last_pymnt_d']) / np.timedelta64(1, 'M')))\n",
        "loan_df['mths_since_last_pymnt_d'].describe()"
      ],
      "metadata": {
        "colab": {
          "base_uri": "https://localhost:8080/"
        },
        "id": "ZA41FE-YWnub",
        "outputId": "8404ba78-d61d-4900-ba4a-5e7806648ec3"
      },
      "id": "ZA41FE-YWnub",
      "execution_count": null,
      "outputs": [
        {
          "output_type": "execute_result",
          "data": {
            "text/plain": [
              "count    466285.000000\n",
              "mean         32.287680\n",
              "std          12.806897\n",
              "min          24.000000\n",
              "25%          24.000000\n",
              "50%          25.000000\n",
              "75%          36.000000\n",
              "max         121.000000\n",
              "Name: mths_since_last_pymnt_d, dtype: float64"
            ]
          },
          "metadata": {},
          "execution_count": 72
        }
      ]
    },
    {
      "cell_type": "code",
      "source": [
        "loan_df.drop('last_pymnt_d',axis=1,inplace=True)"
      ],
      "metadata": {
        "id": "VZ7pjGAOW4OU"
      },
      "id": "VZ7pjGAOW4OU",
      "execution_count": null,
      "outputs": []
    },
    {
      "cell_type": "markdown",
      "source": [
        "###### earliest_cr_line"
      ],
      "metadata": {
        "id": "5Q0FPPOL7AAM"
      },
      "id": "5Q0FPPOL7AAM"
    },
    {
      "cell_type": "code",
      "source": [
        "loan_df['mths_since_earliest_cr_line'] = round(pd.to_numeric((pd.to_datetime('2018-01-01') - loan_df['earliest_cr_line']) / np.timedelta64(1, 'M')))\n",
        "loan_df['mths_since_earliest_cr_line'].describe()"
      ],
      "metadata": {
        "colab": {
          "base_uri": "https://localhost:8080/"
        },
        "id": "mbuYW0XwXBMj",
        "outputId": "e26276b8-89c5-401e-a4cb-400bd26c2524"
      },
      "id": "mbuYW0XwXBMj",
      "execution_count": null,
      "outputs": [
        {
          "output_type": "execute_result",
          "data": {
            "text/plain": [
              "count    466285.000000\n",
              "mean        240.480348\n",
              "std          93.972277\n",
              "min        -611.000000\n",
              "25%         184.000000\n",
              "50%         226.000000\n",
              "75%         286.000000\n",
              "max         588.000000\n",
              "Name: mths_since_earliest_cr_line, dtype: float64"
            ]
          },
          "metadata": {},
          "execution_count": 74
        }
      ]
    },
    {
      "cell_type": "markdown",
      "source": [
        "Ada suatu nilai aneh yaitu negatif"
      ],
      "metadata": {
        "id": "OFKnWBFOXhIK"
      },
      "id": "OFKnWBFOXhIK"
    },
    {
      "cell_type": "code",
      "source": [
        "loan_df[loan_df['mths_since_earliest_cr_line']<0][['mths_since_earliest_cr_line','earliest_cr_line']].min()"
      ],
      "metadata": {
        "colab": {
          "base_uri": "https://localhost:8080/"
        },
        "id": "LaxPdpjbXebO",
        "outputId": "3a5c1989-0ef7-4662-cefb-33beca3354dc"
      },
      "id": "LaxPdpjbXebO",
      "execution_count": null,
      "outputs": [
        {
          "output_type": "execute_result",
          "data": {
            "text/plain": [
              "mths_since_earliest_cr_line                 -611.0\n",
              "earliest_cr_line               2044-01-01 00:00:00\n",
              "dtype: object"
            ]
          },
          "metadata": {},
          "execution_count": 75
        }
      ]
    },
    {
      "cell_type": "markdown",
      "source": [
        "Terhitung pada data yang memilki nilai datetime di atas 2044 akan diubah menjadi 1944, 1945, dst"
      ],
      "metadata": {
        "id": "lSfQfArV2Qsh"
      },
      "id": "lSfQfArV2Qsh"
    },
    {
      "cell_type": "code",
      "source": [
        "mask = loan_df['earliest_cr_line'].dt.year > 2043\n",
        "loan_df.loc[mask,'earliest_cr_line'] = loan_df.loc[mask,'earliest_cr_line'] - pd.DateOffset(years=100)"
      ],
      "metadata": {
        "id": "milpjIqSagPs"
      },
      "id": "milpjIqSagPs",
      "execution_count": null,
      "outputs": []
    },
    {
      "cell_type": "markdown",
      "source": [
        "Hitung ulang"
      ],
      "metadata": {
        "id": "a2SM8Lmx3XPw"
      },
      "id": "a2SM8Lmx3XPw"
    },
    {
      "cell_type": "code",
      "source": [
        "loan_df['mths_since_earliest_cr_line'] = round(pd.to_numeric((pd.to_datetime('2018-01-01') - loan_df['earliest_cr_line']) / np.timedelta64(1, 'M')))\n",
        "loan_df['mths_since_earliest_cr_line'].describe()"
      ],
      "metadata": {
        "colab": {
          "base_uri": "https://localhost:8080/"
        },
        "id": "p6uvAwRl3PlF",
        "outputId": "66a25728-f8d9-4510-94bc-352fe4dd89e5"
      },
      "id": "p6uvAwRl3PlF",
      "execution_count": null,
      "outputs": [
        {
          "output_type": "execute_result",
          "data": {
            "text/plain": [
              "count    466285.000000\n",
              "mean        243.488808\n",
              "std          86.926717\n",
              "min          74.000000\n",
              "25%         185.000000\n",
              "50%         227.000000\n",
              "75%         286.000000\n",
              "max         888.000000\n",
              "Name: mths_since_earliest_cr_line, dtype: float64"
            ]
          },
          "metadata": {},
          "execution_count": 77
        }
      ]
    },
    {
      "cell_type": "code",
      "source": [
        "loan_df.drop('earliest_cr_line',axis=1,inplace=True)"
      ],
      "metadata": {
        "id": "VmkJ3TEN3hYs"
      },
      "id": "VmkJ3TEN3hYs",
      "execution_count": null,
      "outputs": []
    },
    {
      "cell_type": "markdown",
      "source": [
        "###### issue_d"
      ],
      "metadata": {
        "id": "d3H-V-Mm7Mos"
      },
      "id": "d3H-V-Mm7Mos"
    },
    {
      "cell_type": "code",
      "source": [
        "loan_df['mths_since_issue_d'] = round(pd.to_numeric((pd.to_datetime('2018-01-01') - loan_df['issue_d']) / np.timedelta64(1, 'M')))\n",
        "loan_df['mths_since_issue_d'].describe()"
      ],
      "metadata": {
        "colab": {
          "base_uri": "https://localhost:8080/"
        },
        "id": "NIp6bZn23pJH",
        "outputId": "49eb7bf1-2038-49c4-e058-3befd77d5847"
      },
      "id": "NIp6bZn23pJH",
      "execution_count": null,
      "outputs": [
        {
          "output_type": "execute_result",
          "data": {
            "text/plain": [
              "count    466285.000000\n",
              "mean         52.255187\n",
              "std          14.340154\n",
              "min          37.000000\n",
              "25%          42.000000\n",
              "50%          48.000000\n",
              "75%          58.000000\n",
              "max         127.000000\n",
              "Name: mths_since_issue_d, dtype: float64"
            ]
          },
          "metadata": {},
          "execution_count": 79
        }
      ]
    },
    {
      "cell_type": "code",
      "source": [
        "loan_df.drop('issue_d',axis=1,inplace=True)"
      ],
      "metadata": {
        "id": "F_SflYAv36gs"
      },
      "id": "F_SflYAv36gs",
      "execution_count": null,
      "outputs": []
    },
    {
      "cell_type": "markdown",
      "source": [
        "#### Encoding"
      ],
      "metadata": {
        "id": "JuawVr5DmwSn"
      },
      "id": "JuawVr5DmwSn"
    },
    {
      "cell_type": "code",
      "source": [
        "from sklearn.preprocessing import LabelEncoder\n",
        "label_encoder = LabelEncoder()"
      ],
      "metadata": {
        "id": "a-23x6cAlV0L"
      },
      "id": "a-23x6cAlV0L",
      "execution_count": null,
      "outputs": []
    },
    {
      "cell_type": "code",
      "source": [
        "# Melakukan label encoding pada kolom 'grade'\n",
        "loan_df['encoded_grade'] = label_encoder.fit_transform(loan_df['grade'])\n",
        "# Menghapus kolom asli yang sudah diencode\n",
        "loan_df = loan_df.drop('grade', axis=1)"
      ],
      "metadata": {
        "id": "wCBCNd0fnCUd"
      },
      "id": "wCBCNd0fnCUd",
      "execution_count": null,
      "outputs": []
    },
    {
      "cell_type": "code",
      "source": [
        "# Melakukan label encoding pada kolom 'grade'\n",
        "loan_df['encoded_initial_list_status'] = label_encoder.fit_transform(loan_df['initial_list_status'])\n",
        "# Menghapus kolom asli yang sudah diencode\n",
        "loan_df = loan_df.drop('initial_list_status', axis=1)"
      ],
      "metadata": {
        "id": "ULulobhgplP2"
      },
      "id": "ULulobhgplP2",
      "execution_count": null,
      "outputs": []
    },
    {
      "cell_type": "code",
      "source": [
        "# Melakukan one-hot encoding dengan pd.get_dummies()\n",
        "encoded_own = pd.get_dummies(loan_df['home_ownership'], prefix='home_ownership')\n",
        "# Menggabungkan hasil one-hot encoding ke dalam DataFrame asli\n",
        "loan_df = pd.concat([loan_df, encoded_own], axis=1)\n",
        "# Menghapus kolom asli yang sudah diencode\n",
        "loan_df = loan_df.drop('home_ownership', axis=1)"
      ],
      "metadata": {
        "id": "mVG4X_kioemI"
      },
      "id": "mVG4X_kioemI",
      "execution_count": null,
      "outputs": []
    },
    {
      "cell_type": "markdown",
      "source": [
        "#### Exploratory Data Analysis"
      ],
      "metadata": {
        "id": "CYkXUqbwv3uN"
      },
      "id": "CYkXUqbwv3uN"
    },
    {
      "cell_type": "code",
      "source": [
        "corr_matrix = loan_df.corr().abs()\n",
        "plt.figure(figsize=(10,10))\n",
        "sns.heatmap(corr_matrix,cmap='flare')"
      ],
      "metadata": {
        "colab": {
          "base_uri": "https://localhost:8080/",
          "height": 1000
        },
        "id": "0veV4h_yv-dk",
        "outputId": "54626578-cc00-4546-f13a-88d8d21192d0"
      },
      "id": "0veV4h_yv-dk",
      "execution_count": null,
      "outputs": [
        {
          "output_type": "stream",
          "name": "stderr",
          "text": [
            "<ipython-input-85-f35e2ef1c676>:1: FutureWarning: The default value of numeric_only in DataFrame.corr is deprecated. In a future version, it will default to False. Select only valid columns or specify the value of numeric_only to silence this warning.\n",
            "  corr_matrix = loan_df.corr().abs()\n"
          ]
        },
        {
          "output_type": "execute_result",
          "data": {
            "text/plain": [
              "<Axes: >"
            ]
          },
          "metadata": {},
          "execution_count": 85
        },
        {
          "output_type": "display_data",
          "data": {
            "text/plain": [
              "<Figure size 1000x1000 with 2 Axes>"
            ],
            "image/png": "[encoded data removed]"
          },
          "metadata": {}
        }
      ]
    },
    {
      "cell_type": "markdown",
      "source": [
        "Kolom 'policy_code' tampak tidak memiliki korelasi dengan kolom lainnya sehingga kolom ini perlu dihapus. Selain itu, kolom ini juga hanya memiliki satu nilai"
      ],
      "metadata": {
        "id": "qktpVt8FFCDc"
      },
      "id": "qktpVt8FFCDc"
    },
    {
      "cell_type": "code",
      "source": [
        "loan_df.drop('policy_code',axis=1,inplace=True)"
      ],
      "metadata": {
        "id": "OFwzaeRwFWLB"
      },
      "id": "OFwzaeRwFWLB",
      "execution_count": null,
      "outputs": []
    },
    {
      "cell_type": "code",
      "source": [
        "# Menghasilkan matriks segitiga atas (tanpa diagonal)\n",
        "upper = corr_matrix.where(np.triu(np.ones(corr_matrix.shape), k=1).astype(bool))\n",
        "# Mendapatkan salah satu dari pasangan kolom yang memiliki korelasi tinggi\n",
        "hicorr_col = [column for column in upper.columns if any(upper[column] > 0.75)]\n",
        "hicorr_col"
      ],
      "metadata": {
        "colab": {
          "base_uri": "https://localhost:8080/"
        },
        "id": "IReMcMhdKyj-",
        "outputId": "899739b2-9574-49ae-b1eb-20fcfe5fb5a7"
      },
      "id": "IReMcMhdKyj-",
      "execution_count": null,
      "outputs": [
        {
          "output_type": "execute_result",
          "data": {
            "text/plain": [
              "['funded_amnt',\n",
              " 'funded_amnt_inv',\n",
              " 'installment',\n",
              " 'out_prncp_inv',\n",
              " 'total_pymnt',\n",
              " 'total_pymnt_inv',\n",
              " 'total_rec_prncp',\n",
              " 'collection_recovery_fee',\n",
              " 'total_rev_hi_lim',\n",
              " 'mths_since_issue_d',\n",
              " 'encoded_grade',\n",
              " 'home_ownership_RENT']"
            ]
          },
          "metadata": {},
          "execution_count": 87
        }
      ]
    },
    {
      "cell_type": "code",
      "source": [
        "loan_df.drop(hicorr_col,axis=1,inplace=True)"
      ],
      "metadata": {
        "id": "EBnl58SgTlds"
      },
      "id": "EBnl58SgTlds",
      "execution_count": null,
      "outputs": []
    },
    {
      "cell_type": "markdown",
      "source": [
        "## Model Development"
      ],
      "metadata": {
        "id": "p9Dfe2gye3W6"
      },
      "id": "p9Dfe2gye3W6"
    },
    {
      "cell_type": "markdown",
      "id": "d52a0fa4",
      "metadata": {
        "id": "d52a0fa4"
      },
      "source": [
        "Target variable yang digunakan adalah kolom <code>loan_status</code>"
      ]
    },
    {
      "cell_type": "code",
      "execution_count": null,
      "id": "b1718d38",
      "metadata": {
        "colab": {
          "base_uri": "https://localhost:8080/"
        },
        "id": "b1718d38",
        "outputId": "453d41b9-b897-4532-ca63-0c60ef5fb137"
      },
      "outputs": [
        {
          "output_type": "execute_result",
          "data": {
            "text/plain": [
              "Current                                                224226\n",
              "Fully Paid                                             184739\n",
              "Charged Off                                             42475\n",
              "Late (31-120 days)                                       6900\n",
              "In Grace Period                                          3146\n",
              "Does not meet the credit policy. Status:Fully Paid       1988\n",
              "Late (16-30 days)                                        1218\n",
              "Default                                                   832\n",
              "Does not meet the credit policy. Status:Charged Off       761\n",
              "Name: loan_status, dtype: int64"
            ]
          },
          "metadata": {},
          "execution_count": 90
        }
      ],
      "source": [
        "# Value dalam loan_status dan frekuensinya\n",
        "loan_df.loan_status.value_counts()"
      ]
    },
    {
      "cell_type": "code",
      "source": [
        "current_df = loan_df[loan_df['loan_status']=='Current']\n",
        "loan_df.drop(current_df.index,inplace=True)\n",
        "loan_df.loan_status.value_counts()"
      ],
      "metadata": {
        "colab": {
          "base_uri": "https://localhost:8080/"
        },
        "id": "h0cDCWeXYKEZ",
        "outputId": "ec855722-f1f2-4c30-9317-e1733920e11b"
      },
      "id": "h0cDCWeXYKEZ",
      "execution_count": null,
      "outputs": [
        {
          "output_type": "execute_result",
          "data": {
            "text/plain": [
              "Fully Paid                                             184739\n",
              "Charged Off                                             42475\n",
              "Late (31-120 days)                                       6900\n",
              "In Grace Period                                          3146\n",
              "Does not meet the credit policy. Status:Fully Paid       1988\n",
              "Late (16-30 days)                                        1218\n",
              "Default                                                   832\n",
              "Does not meet the credit policy. Status:Charged Off       761\n",
              "Name: loan_status, dtype: int64"
            ]
          },
          "metadata": {},
          "execution_count": 93
        }
      ]
    },
    {
      "cell_type": "code",
      "execution_count": null,
      "id": "0d6744cc",
      "metadata": {
        "colab": {
          "base_uri": "https://localhost:8080/",
          "height": 424
        },
        "id": "0d6744cc",
        "outputId": "8b732d7a-678a-447b-94f2-ea38fb0e7d9f"
      },
      "outputs": [
        {
          "output_type": "execute_result",
          "data": {
            "text/plain": [
              "        Encoded_loan_status\n",
              "0                         0\n",
              "1                         1\n",
              "2                         0\n",
              "3                         0\n",
              "4                         0\n",
              "...                     ...\n",
              "242054                    1\n",
              "242055                    1\n",
              "242056                    0\n",
              "242057                    1\n",
              "242058                    0\n",
              "\n",
              "[242059 rows x 1 columns]"
            ],
            "text/html": [
              "\n",
              "  <div id=\"df-aa0202fe-5d9d-422d-b507-3dff741e1e9e\" class=\"colab-df-container\">\n",
              "    <div>\n",
              "<style scoped>\n",
              "    .dataframe tbody tr th:only-of-type {\n",
              "        vertical-align: middle;\n",
              "    }\n",
              "\n",
              "    .dataframe tbody tr th {\n",
              "        vertical-align: top;\n",
              "    }\n",
              "\n",
              "    .dataframe thead th {\n",
              "        text-align: right;\n",
              "    }\n",
              "</style>\n",
              "<table border=\"1\" class=\"dataframe\">\n",
              "  <thead>\n",
              "    <tr style=\"text-align: right;\">\n",
              "      <th></th>\n",
              "      <th>Encoded_loan_status</th>\n",
              "    </tr>\n",
              "  </thead>\n",
              "  <tbody>\n",
              "    <tr>\n",
              "      <th>0</th>\n",
              "      <td>0</td>\n",
              "    </tr>\n",
              "    <tr>\n",
              "      <th>1</th>\n",
              "      <td>1</td>\n",
              "    </tr>\n",
              "    <tr>\n",
              "      <th>2</th>\n",
              "      <td>0</td>\n",
              "    </tr>\n",
              "    <tr>\n",
              "      <th>3</th>\n",
              "      <td>0</td>\n",
              "    </tr>\n",
              "    <tr>\n",
              "      <th>4</th>\n",
              "      <td>0</td>\n",
              "    </tr>\n",
              "    <tr>\n",
              "      <th>...</th>\n",
              "      <td>...</td>\n",
              "    </tr>\n",
              "    <tr>\n",
              "      <th>242054</th>\n",
              "      <td>1</td>\n",
              "    </tr>\n",
              "    <tr>\n",
              "      <th>242055</th>\n",
              "      <td>1</td>\n",
              "    </tr>\n",
              "    <tr>\n",
              "      <th>242056</th>\n",
              "      <td>0</td>\n",
              "    </tr>\n",
              "    <tr>\n",
              "      <th>242057</th>\n",
              "      <td>1</td>\n",
              "    </tr>\n",
              "    <tr>\n",
              "      <th>242058</th>\n",
              "      <td>0</td>\n",
              "    </tr>\n",
              "  </tbody>\n",
              "</table>\n",
              "<p>242059 rows × 1 columns</p>\n",
              "</div>\n",
              "    <div class=\"colab-df-buttons\">\n",
              "\n",
              "  <div class=\"colab-df-container\">\n",
              "    <button class=\"colab-df-convert\" onclick=\"convertToInteractive('df-aa0202fe-5d9d-422d-b507-3dff741e1e9e')\"\n",
              "            title=\"Convert this dataframe to an interactive table.\"\n",
              "            style=\"display:none;\">\n",
              "\n",
              "  <svg xmlns=\"http://www.w3.org/2000/svg\" height=\"24px\" viewBox=\"0 -960 960 960\">\n",
              "    <path d=\"M120-120v-720h720v720H120Zm60-500h600v-160H180v160Zm220 220h160v-160H400v160Zm0 220h160v-160H400v160ZM180-400h160v-160H180v160Zm440 0h160v-160H620v160ZM180-180h160v-160H180v160Zm440 0h160v-160H620v160Z\"/>\n",
              "  </svg>\n",
              "    </button>\n",
              "\n",
              "  <style>\n",
              "    .colab-df-container {\n",
              "      display:flex;\n",
              "      gap: 12px;\n",
              "    }\n",
              "\n",
              "    .colab-df-convert {\n",
              "      background-color: #E8F0FE;\n",
              "      border: none;\n",
              "      border-radius: 50%;\n",
              "      cursor: pointer;\n",
              "      display: none;\n",
              "      fill: #1967D2;\n",
              "      height: 32px;\n",
              "      padding: 0 0 0 0;\n",
              "      width: 32px;\n",
              "    }\n",
              "\n",
              "    .colab-df-convert:hover {\n",
              "      background-color: #E2EBFA;\n",
              "      box-shadow: 0px 1px 2px rgba(60, 64, 67, 0.3), 0px 1px 3px 1px rgba(60, 64, 67, 0.15);\n",
              "      fill: #174EA6;\n",
              "    }\n",
              "\n",
              "    .colab-df-buttons div {\n",
              "      margin-bottom: 4px;\n",
              "    }\n",
              "\n",
              "    [theme=dark] .colab-df-convert {\n",
              "      background-color: #3B4455;\n",
              "      fill: #D2E3FC;\n",
              "    }\n",
              "\n",
              "    [theme=dark] .colab-df-convert:hover {\n",
              "      background-color: #434B5C;\n",
              "      box-shadow: 0px 1px 3px 1px rgba(0, 0, 0, 0.15);\n",
              "      filter: drop-shadow(0px 1px 2px rgba(0, 0, 0, 0.3));\n",
              "      fill: #FFFFFF;\n",
              "    }\n",
              "  </style>\n",
              "\n",
              "    <script>\n",
              "      const buttonEl =\n",
              "        document.querySelector('#df-aa0202fe-5d9d-422d-b507-3dff741e1e9e button.colab-df-convert');\n",
              "      buttonEl.style.display =\n",
              "        google.colab.kernel.accessAllowed ? 'block' : 'none';\n",
              "\n",
              "      async function convertToInteractive(key) {\n",
              "        const element = document.querySelector('#df-aa0202fe-5d9d-422d-b507-3dff741e1e9e');\n",
              "        const dataTable =\n",
              "          await google.colab.kernel.invokeFunction('convertToInteractive',\n",
              "                                                    [key], {});\n",
              "        if (!dataTable) return;\n",
              "\n",
              "        const docLinkHtml = 'Like what you see? Visit the ' +\n",
              "          '<a target=\"_blank\" href=https://colab.research.google.com/notebooks/data_table.ipynb>data table notebook</a>'\n",
              "          + ' to learn more about interactive tables.';\n",
              "        element.innerHTML = '';\n",
              "        dataTable['output_type'] = 'display_data';\n",
              "        await google.colab.output.renderOutput(dataTable, element);\n",
              "        const docLink = document.createElement('div');\n",
              "        docLink.innerHTML = docLinkHtml;\n",
              "        element.appendChild(docLink);\n",
              "      }\n",
              "    </script>\n",
              "  </div>\n",
              "\n",
              "\n",
              "<div id=\"df-c4b67c2e-1745-4993-8c36-900b73d5a8c3\">\n",
              "  <button class=\"colab-df-quickchart\" onclick=\"quickchart('df-c4b67c2e-1745-4993-8c36-900b73d5a8c3')\"\n",
              "            title=\"Suggest charts\"\n",
              "            style=\"display:none;\">\n",
              "\n",
              "<svg xmlns=\"http://www.w3.org/2000/svg\" height=\"24px\"viewBox=\"0 0 24 24\"\n",
              "     width=\"24px\">\n",
              "    <g>\n",
              "        <path d=\"M19 3H5c-1.1 0-2 .9-2 2v14c0 1.1.9 2 2 2h14c1.1 0 2-.9 2-2V5c0-1.1-.9-2-2-2zM9 17H7v-7h2v7zm4 0h-2V7h2v10zm4 0h-2v-4h2v4z\"/>\n",
              "    </g>\n",
              "</svg>\n",
              "  </button>\n",
              "\n",
              "<style>\n",
              "  .colab-df-quickchart {\n",
              "      --bg-color: #E8F0FE;\n",
              "      --fill-color: #1967D2;\n",
              "      --hover-bg-color: #E2EBFA;\n",
              "      --hover-fill-color: #174EA6;\n",
              "      --disabled-fill-color: #AAA;\n",
              "      --disabled-bg-color: #DDD;\n",
              "  }\n",
              "\n",
              "  [theme=dark] .colab-df-quickchart {\n",
              "      --bg-color: #3B4455;\n",
              "      --fill-color: #D2E3FC;\n",
              "      --hover-bg-color: #434B5C;\n",
              "      --hover-fill-color: #FFFFFF;\n",
              "      --disabled-bg-color: #3B4455;\n",
              "      --disabled-fill-color: #666;\n",
              "  }\n",
              "\n",
              "  .colab-df-quickchart {\n",
              "    background-color: var(--bg-color);\n",
              "    border: none;\n",
              "    border-radius: 50%;\n",
              "    cursor: pointer;\n",
              "    display: none;\n",
              "    fill: var(--fill-color);\n",
              "    height: 32px;\n",
              "    padding: 0;\n",
              "    width: 32px;\n",
              "  }\n",
              "\n",
              "  .colab-df-quickchart:hover {\n",
              "    background-color: var(--hover-bg-color);\n",
              "    box-shadow: 0 1px 2px rgba(60, 64, 67, 0.3), 0 1px 3px 1px rgba(60, 64, 67, 0.15);\n",
              "    fill: var(--button-hover-fill-color);\n",
              "  }\n",
              "\n",
              "  .colab-df-quickchart-complete:disabled,\n",
              "  .colab-df-quickchart-complete:disabled:hover {\n",
              "    background-color: var(--disabled-bg-color);\n",
              "    fill: var(--disabled-fill-color);\n",
              "    box-shadow: none;\n",
              "  }\n",
              "\n",
              "  .colab-df-spinner {\n",
              "    border: 2px solid var(--fill-color);\n",
              "    border-color: transparent;\n",
              "    border-bottom-color: var(--fill-color);\n",
              "    animation:\n",
              "      spin 1s steps(1) infinite;\n",
              "  }\n",
              "\n",
              "  @keyframes spin {\n",
              "    0% {\n",
              "      border-color: transparent;\n",
              "      border-bottom-color: var(--fill-color);\n",
              "      border-left-color: var(--fill-color);\n",
              "    }\n",
              "    20% {\n",
              "      border-color: transparent;\n",
              "      border-left-color: var(--fill-color);\n",
              "      border-top-color: var(--fill-color);\n",
              "    }\n",
              "    30% {\n",
              "      border-color: transparent;\n",
              "      border-left-color: var(--fill-color);\n",
              "      border-top-color: var(--fill-color);\n",
              "      border-right-color: var(--fill-color);\n",
              "    }\n",
              "    40% {\n",
              "      border-color: transparent;\n",
              "      border-right-color: var(--fill-color);\n",
              "      border-top-color: var(--fill-color);\n",
              "    }\n",
              "    60% {\n",
              "      border-color: transparent;\n",
              "      border-right-color: var(--fill-color);\n",
              "    }\n",
              "    80% {\n",
              "      border-color: transparent;\n",
              "      border-right-color: var(--fill-color);\n",
              "      border-bottom-color: var(--fill-color);\n",
              "    }\n",
              "    90% {\n",
              "      border-color: transparent;\n",
              "      border-bottom-color: var(--fill-color);\n",
              "    }\n",
              "  }\n",
              "</style>\n",
              "\n",
              "  <script>\n",
              "    async function quickchart(key) {\n",
              "      const quickchartButtonEl =\n",
              "        document.querySelector('#' + key + ' button');\n",
              "      quickchartButtonEl.disabled = true;  // To prevent multiple clicks.\n",
              "      quickchartButtonEl.classList.add('colab-df-spinner');\n",
              "      try {\n",
              "        const charts = await google.colab.kernel.invokeFunction(\n",
              "            'suggestCharts', [key], {});\n",
              "      } catch (error) {\n",
              "        console.error('Error during call to suggestCharts:', error);\n",
              "      }\n",
              "      quickchartButtonEl.classList.remove('colab-df-spinner');\n",
              "      quickchartButtonEl.classList.add('colab-df-quickchart-complete');\n",
              "    }\n",
              "    (() => {\n",
              "      let quickchartButtonEl =\n",
              "        document.querySelector('#df-c4b67c2e-1745-4993-8c36-900b73d5a8c3 button');\n",
              "      quickchartButtonEl.style.display =\n",
              "        google.colab.kernel.accessAllowed ? 'block' : 'none';\n",
              "    })();\n",
              "  </script>\n",
              "</div>\n",
              "    </div>\n",
              "  </div>\n"
            ]
          },
          "metadata": {},
          "execution_count": 94
        }
      ],
      "source": [
        "# Mendefinisikan kolom_bad sebagai list\n",
        "kolom_bad = ['Charged Off', 'Late (31-120 days)', 'Default', 'Does not meet the credit policy. Status:Charged Off']\n",
        "\n",
        "# Mengganti nilai di dalam kolom 'loan_status' berdasarkan kondisi\n",
        "Y = np.where(loan_df['loan_status'].isin(kolom_bad), 1, 0)\n",
        "\n",
        "# Membuat DataFrame dari hasil penggantian nilai\n",
        "Y = pd.DataFrame(Y, columns=['Encoded_loan_status'])\n",
        "\n",
        "# Menampilkan DataFrame setelah perubahan\n",
        "Y"
      ]
    },
    {
      "cell_type": "markdown",
      "id": "829f1a71",
      "metadata": {
        "id": "829f1a71"
      },
      "source": [
        "Nilai 1 digolongkan sebagai bad borrower sedangkan 0 digolongkan good borrower"
      ]
    },
    {
      "cell_type": "code",
      "execution_count": null,
      "id": "60fef925",
      "metadata": {
        "id": "60fef925"
      },
      "outputs": [],
      "source": [
        "X = loan_df.drop('loan_status',axis=1)"
      ]
    },
    {
      "cell_type": "markdown",
      "source": [
        "#### Train Test Split"
      ],
      "metadata": {
        "id": "Npk70CY9iT6f"
      },
      "id": "Npk70CY9iT6f"
    },
    {
      "cell_type": "code",
      "source": [
        "from sklearn.model_selection import train_test_split"
      ],
      "metadata": {
        "id": "erUYHrpWiWIQ"
      },
      "id": "erUYHrpWiWIQ",
      "execution_count": null,
      "outputs": []
    },
    {
      "cell_type": "code",
      "source": [
        "X_train,X_test,y_train,y_test = train_test_split(X,Y,test_size=0.2,stratify=Y,random_state=80)"
      ],
      "metadata": {
        "id": "9NE4BWbGieVF"
      },
      "id": "9NE4BWbGieVF",
      "execution_count": null,
      "outputs": []
    },
    {
      "cell_type": "code",
      "source": [
        "X_train.shape"
      ],
      "metadata": {
        "colab": {
          "base_uri": "https://localhost:8080/"
        },
        "id": "05kPHZOjrnTR",
        "outputId": "ba26e1f7-b15f-440e-d798-91f7f623ddbd"
      },
      "id": "05kPHZOjrnTR",
      "execution_count": null,
      "outputs": [
        {
          "output_type": "execute_result",
          "data": {
            "text/plain": [
              "(193647, 30)"
            ]
          },
          "metadata": {},
          "execution_count": 99
        }
      ]
    },
    {
      "cell_type": "code",
      "source": [
        "X_test.shape"
      ],
      "metadata": {
        "colab": {
          "base_uri": "https://localhost:8080/"
        },
        "id": "EVHH2_BCBjuk",
        "outputId": "6cd06777-3018-4809-f8bc-46794fcb07c3"
      },
      "id": "EVHH2_BCBjuk",
      "execution_count": null,
      "outputs": [
        {
          "output_type": "execute_result",
          "data": {
            "text/plain": [
              "(48412, 30)"
            ]
          },
          "metadata": {},
          "execution_count": 100
        }
      ]
    },
    {
      "cell_type": "code",
      "source": [
        "y_train.head()"
      ],
      "metadata": {
        "colab": {
          "base_uri": "https://localhost:8080/",
          "height": 206
        },
        "id": "hsBY5wwSCkpY",
        "outputId": "d331e9a2-80fb-43d4-c1cd-6085ab2a3aa6"
      },
      "id": "hsBY5wwSCkpY",
      "execution_count": null,
      "outputs": [
        {
          "output_type": "execute_result",
          "data": {
            "text/plain": [
              "        Encoded_loan_status\n",
              "24848                     0\n",
              "21593                     0\n",
              "67858                     0\n",
              "229254                    0\n",
              "156378                    0"
            ],
            "text/html": [
              "\n",
              "  <div id=\"df-c2d9a01b-7560-4b09-9aa1-d74bbcb31025\" class=\"colab-df-container\">\n",
              "    <div>\n",
              "<style scoped>\n",
              "    .dataframe tbody tr th:only-of-type {\n",
              "        vertical-align: middle;\n",
              "    }\n",
              "\n",
              "    .dataframe tbody tr th {\n",
              "        vertical-align: top;\n",
              "    }\n",
              "\n",
              "    .dataframe thead th {\n",
              "        text-align: right;\n",
              "    }\n",
              "</style>\n",
              "<table border=\"1\" class=\"dataframe\">\n",
              "  <thead>\n",
              "    <tr style=\"text-align: right;\">\n",
              "      <th></th>\n",
              "      <th>Encoded_loan_status</th>\n",
              "    </tr>\n",
              "  </thead>\n",
              "  <tbody>\n",
              "    <tr>\n",
              "      <th>24848</th>\n",
              "      <td>0</td>\n",
              "    </tr>\n",
              "    <tr>\n",
              "      <th>21593</th>\n",
              "      <td>0</td>\n",
              "    </tr>\n",
              "    <tr>\n",
              "      <th>67858</th>\n",
              "      <td>0</td>\n",
              "    </tr>\n",
              "    <tr>\n",
              "      <th>229254</th>\n",
              "      <td>0</td>\n",
              "    </tr>\n",
              "    <tr>\n",
              "      <th>156378</th>\n",
              "      <td>0</td>\n",
              "    </tr>\n",
              "  </tbody>\n",
              "</table>\n",
              "</div>\n",
              "    <div class=\"colab-df-buttons\">\n",
              "\n",
              "  <div class=\"colab-df-container\">\n",
              "    <button class=\"colab-df-convert\" onclick=\"convertToInteractive('df-c2d9a01b-7560-4b09-9aa1-d74bbcb31025')\"\n",
              "            title=\"Convert this dataframe to an interactive table.\"\n",
              "            style=\"display:none;\">\n",
              "\n",
              "  <svg xmlns=\"http://www.w3.org/2000/svg\" height=\"24px\" viewBox=\"0 -960 960 960\">\n",
              "    <path d=\"M120-120v-720h720v720H120Zm60-500h600v-160H180v160Zm220 220h160v-160H400v160Zm0 220h160v-160H400v160ZM180-400h160v-160H180v160Zm440 0h160v-160H620v160ZM180-180h160v-160H180v160Zm440 0h160v-160H620v160Z\"/>\n",
              "  </svg>\n",
              "    </button>\n",
              "\n",
              "  <style>\n",
              "    .colab-df-container {\n",
              "      display:flex;\n",
              "      gap: 12px;\n",
              "    }\n",
              "\n",
              "    .colab-df-convert {\n",
              "      background-color: #E8F0FE;\n",
              "      border: none;\n",
              "      border-radius: 50%;\n",
              "      cursor: pointer;\n",
              "      display: none;\n",
              "      fill: #1967D2;\n",
              "      height: 32px;\n",
              "      padding: 0 0 0 0;\n",
              "      width: 32px;\n",
              "    }\n",
              "\n",
              "    .colab-df-convert:hover {\n",
              "      background-color: #E2EBFA;\n",
              "      box-shadow: 0px 1px 2px rgba(60, 64, 67, 0.3), 0px 1px 3px 1px rgba(60, 64, 67, 0.15);\n",
              "      fill: #174EA6;\n",
              "    }\n",
              "\n",
              "    .colab-df-buttons div {\n",
              "      margin-bottom: 4px;\n",
              "    }\n",
              "\n",
              "    [theme=dark] .colab-df-convert {\n",
              "      background-color: #3B4455;\n",
              "      fill: #D2E3FC;\n",
              "    }\n",
              "\n",
              "    [theme=dark] .colab-df-convert:hover {\n",
              "      background-color: #434B5C;\n",
              "      box-shadow: 0px 1px 3px 1px rgba(0, 0, 0, 0.15);\n",
              "      filter: drop-shadow(0px 1px 2px rgba(0, 0, 0, 0.3));\n",
              "      fill: #FFFFFF;\n",
              "    }\n",
              "  </style>\n",
              "\n",
              "    <script>\n",
              "      const buttonEl =\n",
              "        document.querySelector('#df-c2d9a01b-7560-4b09-9aa1-d74bbcb31025 button.colab-df-convert');\n",
              "      buttonEl.style.display =\n",
              "        google.colab.kernel.accessAllowed ? 'block' : 'none';\n",
              "\n",
              "      async function convertToInteractive(key) {\n",
              "        const element = document.querySelector('#df-c2d9a01b-7560-4b09-9aa1-d74bbcb31025');\n",
              "        const dataTable =\n",
              "          await google.colab.kernel.invokeFunction('convertToInteractive',\n",
              "                                                    [key], {});\n",
              "        if (!dataTable) return;\n",
              "\n",
              "        const docLinkHtml = 'Like what you see? Visit the ' +\n",
              "          '<a target=\"_blank\" href=https://colab.research.google.com/notebooks/data_table.ipynb>data table notebook</a>'\n",
              "          + ' to learn more about interactive tables.';\n",
              "        element.innerHTML = '';\n",
              "        dataTable['output_type'] = 'display_data';\n",
              "        await google.colab.output.renderOutput(dataTable, element);\n",
              "        const docLink = document.createElement('div');\n",
              "        docLink.innerHTML = docLinkHtml;\n",
              "        element.appendChild(docLink);\n",
              "      }\n",
              "    </script>\n",
              "  </div>\n",
              "\n",
              "\n",
              "<div id=\"df-42b2f451-cb71-431d-a604-099f892f8565\">\n",
              "  <button class=\"colab-df-quickchart\" onclick=\"quickchart('df-42b2f451-cb71-431d-a604-099f892f8565')\"\n",
              "            title=\"Suggest charts\"\n",
              "            style=\"display:none;\">\n",
              "\n",
              "<svg xmlns=\"http://www.w3.org/2000/svg\" height=\"24px\"viewBox=\"0 0 24 24\"\n",
              "     width=\"24px\">\n",
              "    <g>\n",
              "        <path d=\"M19 3H5c-1.1 0-2 .9-2 2v14c0 1.1.9 2 2 2h14c1.1 0 2-.9 2-2V5c0-1.1-.9-2-2-2zM9 17H7v-7h2v7zm4 0h-2V7h2v10zm4 0h-2v-4h2v4z\"/>\n",
              "    </g>\n",
              "</svg>\n",
              "  </button>\n",
              "\n",
              "<style>\n",
              "  .colab-df-quickchart {\n",
              "      --bg-color: #E8F0FE;\n",
              "      --fill-color: #1967D2;\n",
              "      --hover-bg-color: #E2EBFA;\n",
              "      --hover-fill-color: #174EA6;\n",
              "      --disabled-fill-color: #AAA;\n",
              "      --disabled-bg-color: #DDD;\n",
              "  }\n",
              "\n",
              "  [theme=dark] .colab-df-quickchart {\n",
              "      --bg-color: #3B4455;\n",
              "      --fill-color: #D2E3FC;\n",
              "      --hover-bg-color: #434B5C;\n",
              "      --hover-fill-color: #FFFFFF;\n",
              "      --disabled-bg-color: #3B4455;\n",
              "      --disabled-fill-color: #666;\n",
              "  }\n",
              "\n",
              "  .colab-df-quickchart {\n",
              "    background-color: var(--bg-color);\n",
              "    border: none;\n",
              "    border-radius: 50%;\n",
              "    cursor: pointer;\n",
              "    display: none;\n",
              "    fill: var(--fill-color);\n",
              "    height: 32px;\n",
              "    padding: 0;\n",
              "    width: 32px;\n",
              "  }\n",
              "\n",
              "  .colab-df-quickchart:hover {\n",
              "    background-color: var(--hover-bg-color);\n",
              "    box-shadow: 0 1px 2px rgba(60, 64, 67, 0.3), 0 1px 3px 1px rgba(60, 64, 67, 0.15);\n",
              "    fill: var(--button-hover-fill-color);\n",
              "  }\n",
              "\n",
              "  .colab-df-quickchart-complete:disabled,\n",
              "  .colab-df-quickchart-complete:disabled:hover {\n",
              "    background-color: var(--disabled-bg-color);\n",
              "    fill: var(--disabled-fill-color);\n",
              "    box-shadow: none;\n",
              "  }\n",
              "\n",
              "  .colab-df-spinner {\n",
              "    border: 2px solid var(--fill-color);\n",
              "    border-color: transparent;\n",
              "    border-bottom-color: var(--fill-color);\n",
              "    animation:\n",
              "      spin 1s steps(1) infinite;\n",
              "  }\n",
              "\n",
              "  @keyframes spin {\n",
              "    0% {\n",
              "      border-color: transparent;\n",
              "      border-bottom-color: var(--fill-color);\n",
              "      border-left-color: var(--fill-color);\n",
              "    }\n",
              "    20% {\n",
              "      border-color: transparent;\n",
              "      border-left-color: var(--fill-color);\n",
              "      border-top-color: var(--fill-color);\n",
              "    }\n",
              "    30% {\n",
              "      border-color: transparent;\n",
              "      border-left-color: var(--fill-color);\n",
              "      border-top-color: var(--fill-color);\n",
              "      border-right-color: var(--fill-color);\n",
              "    }\n",
              "    40% {\n",
              "      border-color: transparent;\n",
              "      border-right-color: var(--fill-color);\n",
              "      border-top-color: var(--fill-color);\n",
              "    }\n",
              "    60% {\n",
              "      border-color: transparent;\n",
              "      border-right-color: var(--fill-color);\n",
              "    }\n",
              "    80% {\n",
              "      border-color: transparent;\n",
              "      border-right-color: var(--fill-color);\n",
              "      border-bottom-color: var(--fill-color);\n",
              "    }\n",
              "    90% {\n",
              "      border-color: transparent;\n",
              "      border-bottom-color: var(--fill-color);\n",
              "    }\n",
              "  }\n",
              "</style>\n",
              "\n",
              "  <script>\n",
              "    async function quickchart(key) {\n",
              "      const quickchartButtonEl =\n",
              "        document.querySelector('#' + key + ' button');\n",
              "      quickchartButtonEl.disabled = true;  // To prevent multiple clicks.\n",
              "      quickchartButtonEl.classList.add('colab-df-spinner');\n",
              "      try {\n",
              "        const charts = await google.colab.kernel.invokeFunction(\n",
              "            'suggestCharts', [key], {});\n",
              "      } catch (error) {\n",
              "        console.error('Error during call to suggestCharts:', error);\n",
              "      }\n",
              "      quickchartButtonEl.classList.remove('colab-df-spinner');\n",
              "      quickchartButtonEl.classList.add('colab-df-quickchart-complete');\n",
              "    }\n",
              "    (() => {\n",
              "      let quickchartButtonEl =\n",
              "        document.querySelector('#df-42b2f451-cb71-431d-a604-099f892f8565 button');\n",
              "      quickchartButtonEl.style.display =\n",
              "        google.colab.kernel.accessAllowed ? 'block' : 'none';\n",
              "    })();\n",
              "  </script>\n",
              "</div>\n",
              "    </div>\n",
              "  </div>\n"
            ]
          },
          "metadata": {},
          "execution_count": 101
        }
      ]
    },
    {
      "cell_type": "markdown",
      "source": [
        "#### Training Model"
      ],
      "metadata": {
        "id": "FWvx1gdgjjYJ"
      },
      "id": "FWvx1gdgjjYJ"
    },
    {
      "cell_type": "code",
      "source": [
        "from sklearn.ensemble import RandomForestClassifier\n",
        "random_forest_model = RandomForestClassifier(class_weight='balanced',n_estimators=100, random_state=42)\n",
        "# Melatih model\n",
        "random_forest_model.fit(X_train, y_train)"
      ],
      "metadata": {
        "colab": {
          "base_uri": "https://localhost:8080/",
          "height": 129
        },
        "id": "08mnOTdljwKZ",
        "outputId": "13e8cc9e-6911-4099-93e6-23783aa95479"
      },
      "id": "08mnOTdljwKZ",
      "execution_count": null,
      "outputs": [
        {
          "output_type": "stream",
          "name": "stderr",
          "text": [
            "<ipython-input-102-99e70a65bdcb>:4: DataConversionWarning: A column-vector y was passed when a 1d array was expected. Please change the shape of y to (n_samples,), for example using ravel().\n",
            "  random_forest_model.fit(X_train, y_train)\n"
          ]
        },
        {
          "output_type": "execute_result",
          "data": {
            "text/plain": [
              "RandomForestClassifier(class_weight='balanced', random_state=42)"
            ],
            "text/html": [
              "<style>#sk-container-id-1 {color: black;background-color: white;}#sk-container-id-1 pre{padding: 0;}#sk-container-id-1 div.sk-toggleable {background-color: white;}#sk-container-id-1 label.sk-toggleable__label {cursor: pointer;display: block;width: 100%;margin-bottom: 0;padding: 0.3em;box-sizing: border-box;text-align: center;}#sk-container-id-1 label.sk-toggleable__label-arrow:before {content: \"▸\";float: left;margin-right: 0.25em;color: #696969;}#sk-container-id-1 label.sk-toggleable__label-arrow:hover:before {color: black;}#sk-container-id-1 div.sk-estimator:hover label.sk-toggleable__label-arrow:before {color: black;}#sk-container-id-1 div.sk-toggleable__content {max-height: 0;max-width: 0;overflow: hidden;text-align: left;background-color: #f0f8ff;}#sk-container-id-1 div.sk-toggleable__content pre {margin: 0.2em;color: black;border-radius: 0.25em;background-color: #f0f8ff;}#sk-container-id-1 input.sk-toggleable__control:checked~div.sk-toggleable__content {max-height: 200px;max-width: 100%;overflow: auto;}#sk-container-id-1 input.sk-toggleable__control:checked~label.sk-toggleable__label-arrow:before {content: \"▾\";}#sk-container-id-1 div.sk-estimator input.sk-toggleable__control:checked~label.sk-toggleable__label {background-color: #d4ebff;}#sk-container-id-1 div.sk-label input.sk-toggleable__control:checked~label.sk-toggleable__label {background-color: #d4ebff;}#sk-container-id-1 input.sk-hidden--visually {border: 0;clip: rect(1px 1px 1px 1px);clip: rect(1px, 1px, 1px, 1px);height: 1px;margin: -1px;overflow: hidden;padding: 0;position: absolute;width: 1px;}#sk-container-id-1 div.sk-estimator {font-family: monospace;background-color: #f0f8ff;border: 1px dotted black;border-radius: 0.25em;box-sizing: border-box;margin-bottom: 0.5em;}#sk-container-id-1 div.sk-estimator:hover {background-color: #d4ebff;}#sk-container-id-1 div.sk-parallel-item::after {content: \"\";width: 100%;border-bottom: 1px solid gray;flex-grow: 1;}#sk-container-id-1 div.sk-label:hover label.sk-toggleable__label {background-color: #d4ebff;}#sk-container-id-1 div.sk-serial::before {content: \"\";position: absolute;border-left: 1px solid gray;box-sizing: border-box;top: 0;bottom: 0;left: 50%;z-index: 0;}#sk-container-id-1 div.sk-serial {display: flex;flex-direction: column;align-items: center;background-color: white;padding-right: 0.2em;padding-left: 0.2em;position: relative;}#sk-container-id-1 div.sk-item {position: relative;z-index: 1;}#sk-container-id-1 div.sk-parallel {display: flex;align-items: stretch;justify-content: center;background-color: white;position: relative;}#sk-container-id-1 div.sk-item::before, #sk-container-id-1 div.sk-parallel-item::before {content: \"\";position: absolute;border-left: 1px solid gray;box-sizing: border-box;top: 0;bottom: 0;left: 50%;z-index: -1;}#sk-container-id-1 div.sk-parallel-item {display: flex;flex-direction: column;z-index: 1;position: relative;background-color: white;}#sk-container-id-1 div.sk-parallel-item:first-child::after {align-self: flex-end;width: 50%;}#sk-container-id-1 div.sk-parallel-item:last-child::after {align-self: flex-start;width: 50%;}#sk-container-id-1 div.sk-parallel-item:only-child::after {width: 0;}#sk-container-id-1 div.sk-dashed-wrapped {border: 1px dashed gray;margin: 0 0.4em 0.5em 0.4em;box-sizing: border-box;padding-bottom: 0.4em;background-color: white;}#sk-container-id-1 div.sk-label label {font-family: monospace;font-weight: bold;display: inline-block;line-height: 1.2em;}#sk-container-id-1 div.sk-label-container {text-align: center;}#sk-container-id-1 div.sk-container {/* jupyter's `normalize.less` sets `[hidden] { display: none; }` but bootstrap.min.css set `[hidden] { display: none !important; }` so we also need the `!important` here to be able to override the default hidden behavior on the sphinx rendered scikit-learn.org. See: https://github.com/scikit-learn/scikit-learn/issues/21755 */display: inline-block !important;position: relative;}#sk-container-id-1 div.sk-text-repr-fallback {display: none;}</style><div id=\"sk-container-id-1\" class=\"sk-top-container\"><div class=\"sk-text-repr-fallback\"><pre>RandomForestClassifier(class_weight=&#x27;balanced&#x27;, random_state=42)</pre><b>In a Jupyter environment, please rerun this cell to show the HTML representation or trust the notebook. <br />On GitHub, the HTML representation is unable to render, please try loading this page with nbviewer.org.</b></div><div class=\"sk-container\" hidden><div class=\"sk-item\"><div class=\"sk-estimator sk-toggleable\"><input class=\"sk-toggleable__control sk-hidden--visually\" id=\"sk-estimator-id-1\" type=\"checkbox\" checked><label for=\"sk-estimator-id-1\" class=\"sk-toggleable__label sk-toggleable__label-arrow\">RandomForestClassifier</label><div class=\"sk-toggleable__content\"><pre>RandomForestClassifier(class_weight=&#x27;balanced&#x27;, random_state=42)</pre></div></div></div></div></div>"
            ]
          },
          "metadata": {},
          "execution_count": 102
        }
      ]
    },
    {
      "cell_type": "markdown",
      "source": [
        "#### Testing Model"
      ],
      "metadata": {
        "id": "bxbBE6ak_d-4"
      },
      "id": "bxbBE6ak_d-4"
    },
    {
      "cell_type": "code",
      "source": [
        "# Lakukan prediksi pada data uji\n",
        "predictions = random_forest_model.predict(X_test)\n",
        "\n",
        "df_actual_predicted = pd.concat([pd.DataFrame(np.array(y_test), columns=['y_actual']), pd.DataFrame(predictions, columns=['y_pred_proba'])], axis=1)\n",
        "df_actual_predicted.index = y_test.index"
      ],
      "metadata": {
        "id": "4TdB_KOS_b6b"
      },
      "id": "4TdB_KOS_b6b",
      "execution_count": null,
      "outputs": []
    },
    {
      "cell_type": "markdown",
      "source": [
        "#### Model Evaluation"
      ],
      "metadata": {
        "id": "0yCfRj8akcKu"
      },
      "id": "0yCfRj8akcKu"
    },
    {
      "cell_type": "markdown",
      "source": [
        "##### ROC Curve"
      ],
      "metadata": {
        "id": "YFHUV0IoN6Zz"
      },
      "id": "YFHUV0IoN6Zz"
    },
    {
      "cell_type": "code",
      "source": [
        "from sklearn.metrics import roc_curve, roc_auc_score\n",
        "# Evaluasi model\n",
        "fpr, tpr, tr = roc_curve(df_actual_predicted['y_actual'], df_actual_predicted['y_pred_proba'])\n",
        "auc = roc_auc_score(df_actual_predicted['y_actual'], df_actual_predicted['y_pred_proba'])\n",
        "\n",
        "plt.plot(fpr, tpr, label='AUC = %0.4f' %auc)\n",
        "plt.plot(fpr, fpr, linestyle = '--', color='k')\n",
        "plt.xlabel('False Positive Rate')\n",
        "plt.ylabel('True Positive Rate')\n",
        "plt.title('ROC Curve')\n",
        "plt.legend()\n",
        "plt.show()"
      ],
      "metadata": {
        "colab": {
          "base_uri": "https://localhost:8080/",
          "height": 472
        },
        "id": "HBI--h3Ekesy",
        "outputId": "bd515149-c4a5-4fce-914c-4f64b27d8da7"
      },
      "id": "HBI--h3Ekesy",
      "execution_count": null,
      "outputs": [
        {
          "output_type": "display_data",
          "data": {
            "text/plain": [
              "<Figure size 640x480 with 1 Axes>"
            ],
            "image/png": "[encoded data removed]"
          },
          "metadata": {}
        }
      ]
    },
    {
      "cell_type": "markdown",
      "source": [
        "##### KS"
      ],
      "metadata": {
        "id": "7cmCKFRYOCRC"
      },
      "id": "7cmCKFRYOCRC"
    },
    {
      "cell_type": "code",
      "source": [
        "df_actual_predicted = df_actual_predicted.sort_values('y_pred_proba')\n",
        "df_actual_predicted = df_actual_predicted.reset_index()\n",
        "\n",
        "df_actual_predicted['Cumulative N Population'] = df_actual_predicted.index + 1\n",
        "df_actual_predicted['Cumulative N Bad'] = df_actual_predicted['y_actual'].cumsum()\n",
        "df_actual_predicted['Cumulative N Good'] = df_actual_predicted['Cumulative N Population'] - df_actual_predicted['Cumulative N Bad']\n",
        "df_actual_predicted['Cumulative Perc Population'] = df_actual_predicted['Cumulative N Population'] / df_actual_predicted.shape[0]\n",
        "df_actual_predicted['Cumulative Perc Bad'] = df_actual_predicted['Cumulative N Bad'] / df_actual_predicted['y_actual'].sum()\n",
        "df_actual_predicted['Cumulative Perc Good'] = df_actual_predicted['Cumulative N Good'] / (df_actual_predicted.shape[0] - df_actual_predicted['y_actual'].sum())"
      ],
      "metadata": {
        "id": "UgM9nlQgWkSo"
      },
      "id": "UgM9nlQgWkSo",
      "execution_count": null,
      "outputs": []
    },
    {
      "cell_type": "code",
      "source": [
        "df_actual_predicted.tail()"
      ],
      "metadata": {
        "colab": {
          "base_uri": "https://localhost:8080/",
          "height": 224
        },
        "id": "FJAR7NRrXDLd",
        "outputId": "dda60d9e-0ebb-49ed-f18f-1b8017b59b83"
      },
      "id": "FJAR7NRrXDLd",
      "execution_count": null,
      "outputs": [
        {
          "output_type": "execute_result",
          "data": {
            "text/plain": [
              "        index  y_actual  y_pred_proba  Cumulative N Population  \\\n",
              "48407  181451         1             1                    48408   \n",
              "48408  137724         1             1                    48409   \n",
              "48409  133736         1             1                    48410   \n",
              "48410  233997         1             1                    48411   \n",
              "48411   44558         1             1                    48412   \n",
              "\n",
              "       Cumulative N Bad  Cumulative N Good  Cumulative Perc Population  \\\n",
              "48407             10190              38218                    0.999917   \n",
              "48408             10191              38218                    0.999938   \n",
              "48409             10192              38218                    0.999959   \n",
              "48410             10193              38218                    0.999979   \n",
              "48411             10194              38218                    1.000000   \n",
              "\n",
              "       Cumulative Perc Bad  Cumulative Perc Good  \n",
              "48407             0.999608                   1.0  \n",
              "48408             0.999706                   1.0  \n",
              "48409             0.999804                   1.0  \n",
              "48410             0.999902                   1.0  \n",
              "48411             1.000000                   1.0  "
            ],
            "text/html": [
              "\n",
              "  <div id=\"df-35af39ac-f4d7-48a2-b0ee-80c3ad1815cf\" class=\"colab-df-container\">\n",
              "    <div>\n",
              "<style scoped>\n",
              "    .dataframe tbody tr th:only-of-type {\n",
              "        vertical-align: middle;\n",
              "    }\n",
              "\n",
              "    .dataframe tbody tr th {\n",
              "        vertical-align: top;\n",
              "    }\n",
              "\n",
              "    .dataframe thead th {\n",
              "        text-align: right;\n",
              "    }\n",
              "</style>\n",
              "<table border=\"1\" class=\"dataframe\">\n",
              "  <thead>\n",
              "    <tr style=\"text-align: right;\">\n",
              "      <th></th>\n",
              "      <th>index</th>\n",
              "      <th>y_actual</th>\n",
              "      <th>y_pred_proba</th>\n",
              "      <th>Cumulative N Population</th>\n",
              "      <th>Cumulative N Bad</th>\n",
              "      <th>Cumulative N Good</th>\n",
              "      <th>Cumulative Perc Population</th>\n",
              "      <th>Cumulative Perc Bad</th>\n",
              "      <th>Cumulative Perc Good</th>\n",
              "    </tr>\n",
              "  </thead>\n",
              "  <tbody>\n",
              "    <tr>\n",
              "      <th>48407</th>\n",
              "      <td>181451</td>\n",
              "      <td>1</td>\n",
              "      <td>1</td>\n",
              "      <td>48408</td>\n",
              "      <td>10190</td>\n",
              "      <td>38218</td>\n",
              "      <td>0.999917</td>\n",
              "      <td>0.999608</td>\n",
              "      <td>1.0</td>\n",
              "    </tr>\n",
              "    <tr>\n",
              "      <th>48408</th>\n",
              "      <td>137724</td>\n",
              "      <td>1</td>\n",
              "      <td>1</td>\n",
              "      <td>48409</td>\n",
              "      <td>10191</td>\n",
              "      <td>38218</td>\n",
              "      <td>0.999938</td>\n",
              "      <td>0.999706</td>\n",
              "      <td>1.0</td>\n",
              "    </tr>\n",
              "    <tr>\n",
              "      <th>48409</th>\n",
              "      <td>133736</td>\n",
              "      <td>1</td>\n",
              "      <td>1</td>\n",
              "      <td>48410</td>\n",
              "      <td>10192</td>\n",
              "      <td>38218</td>\n",
              "      <td>0.999959</td>\n",
              "      <td>0.999804</td>\n",
              "      <td>1.0</td>\n",
              "    </tr>\n",
              "    <tr>\n",
              "      <th>48410</th>\n",
              "      <td>233997</td>\n",
              "      <td>1</td>\n",
              "      <td>1</td>\n",
              "      <td>48411</td>\n",
              "      <td>10193</td>\n",
              "      <td>38218</td>\n",
              "      <td>0.999979</td>\n",
              "      <td>0.999902</td>\n",
              "      <td>1.0</td>\n",
              "    </tr>\n",
              "    <tr>\n",
              "      <th>48411</th>\n",
              "      <td>44558</td>\n",
              "      <td>1</td>\n",
              "      <td>1</td>\n",
              "      <td>48412</td>\n",
              "      <td>10194</td>\n",
              "      <td>38218</td>\n",
              "      <td>1.000000</td>\n",
              "      <td>1.000000</td>\n",
              "      <td>1.0</td>\n",
              "    </tr>\n",
              "  </tbody>\n",
              "</table>\n",
              "</div>\n",
              "    <div class=\"colab-df-buttons\">\n",
              "\n",
              "  <div class=\"colab-df-container\">\n",
              "    <button class=\"colab-df-convert\" onclick=\"convertToInteractive('df-35af39ac-f4d7-48a2-b0ee-80c3ad1815cf')\"\n",
              "            title=\"Convert this dataframe to an interactive table.\"\n",
              "            style=\"display:none;\">\n",
              "\n",
              "  <svg xmlns=\"http://www.w3.org/2000/svg\" height=\"24px\" viewBox=\"0 -960 960 960\">\n",
              "    <path d=\"M120-120v-720h720v720H120Zm60-500h600v-160H180v160Zm220 220h160v-160H400v160Zm0 220h160v-160H400v160ZM180-400h160v-160H180v160Zm440 0h160v-160H620v160ZM180-180h160v-160H180v160Zm440 0h160v-160H620v160Z\"/>\n",
              "  </svg>\n",
              "    </button>\n",
              "\n",
              "  <style>\n",
              "    .colab-df-container {\n",
              "      display:flex;\n",
              "      gap: 12px;\n",
              "    }\n",
              "\n",
              "    .colab-df-convert {\n",
              "      background-color: #E8F0FE;\n",
              "      border: none;\n",
              "      border-radius: 50%;\n",
              "      cursor: pointer;\n",
              "      display: none;\n",
              "      fill: #1967D2;\n",
              "      height: 32px;\n",
              "      padding: 0 0 0 0;\n",
              "      width: 32px;\n",
              "    }\n",
              "\n",
              "    .colab-df-convert:hover {\n",
              "      background-color: #E2EBFA;\n",
              "      box-shadow: 0px 1px 2px rgba(60, 64, 67, 0.3), 0px 1px 3px 1px rgba(60, 64, 67, 0.15);\n",
              "      fill: #174EA6;\n",
              "    }\n",
              "\n",
              "    .colab-df-buttons div {\n",
              "      margin-bottom: 4px;\n",
              "    }\n",
              "\n",
              "    [theme=dark] .colab-df-convert {\n",
              "      background-color: #3B4455;\n",
              "      fill: #D2E3FC;\n",
              "    }\n",
              "\n",
              "    [theme=dark] .colab-df-convert:hover {\n",
              "      background-color: #434B5C;\n",
              "      box-shadow: 0px 1px 3px 1px rgba(0, 0, 0, 0.15);\n",
              "      filter: drop-shadow(0px 1px 2px rgba(0, 0, 0, 0.3));\n",
              "      fill: #FFFFFF;\n",
              "    }\n",
              "  </style>\n",
              "\n",
              "    <script>\n",
              "      const buttonEl =\n",
              "        document.querySelector('#df-35af39ac-f4d7-48a2-b0ee-80c3ad1815cf button.colab-df-convert');\n",
              "      buttonEl.style.display =\n",
              "        google.colab.kernel.accessAllowed ? 'block' : 'none';\n",
              "\n",
              "      async function convertToInteractive(key) {\n",
              "        const element = document.querySelector('#df-35af39ac-f4d7-48a2-b0ee-80c3ad1815cf');\n",
              "        const dataTable =\n",
              "          await google.colab.kernel.invokeFunction('convertToInteractive',\n",
              "                                                    [key], {});\n",
              "        if (!dataTable) return;\n",
              "\n",
              "        const docLinkHtml = 'Like what you see? Visit the ' +\n",
              "          '<a target=\"_blank\" href=https://colab.research.google.com/notebooks/data_table.ipynb>data table notebook</a>'\n",
              "          + ' to learn more about interactive tables.';\n",
              "        element.innerHTML = '';\n",
              "        dataTable['output_type'] = 'display_data';\n",
              "        await google.colab.output.renderOutput(dataTable, element);\n",
              "        const docLink = document.createElement('div');\n",
              "        docLink.innerHTML = docLinkHtml;\n",
              "        element.appendChild(docLink);\n",
              "      }\n",
              "    </script>\n",
              "  </div>\n",
              "\n",
              "\n",
              "<div id=\"df-6cd3ce24-7fef-44f5-85c3-3e223d3a2b36\">\n",
              "  <button class=\"colab-df-quickchart\" onclick=\"quickchart('df-6cd3ce24-7fef-44f5-85c3-3e223d3a2b36')\"\n",
              "            title=\"Suggest charts\"\n",
              "            style=\"display:none;\">\n",
              "\n",
              "<svg xmlns=\"http://www.w3.org/2000/svg\" height=\"24px\"viewBox=\"0 0 24 24\"\n",
              "     width=\"24px\">\n",
              "    <g>\n",
              "        <path d=\"M19 3H5c-1.1 0-2 .9-2 2v14c0 1.1.9 2 2 2h14c1.1 0 2-.9 2-2V5c0-1.1-.9-2-2-2zM9 17H7v-7h2v7zm4 0h-2V7h2v10zm4 0h-2v-4h2v4z\"/>\n",
              "    </g>\n",
              "</svg>\n",
              "  </button>\n",
              "\n",
              "<style>\n",
              "  .colab-df-quickchart {\n",
              "      --bg-color: #E8F0FE;\n",
              "      --fill-color: #1967D2;\n",
              "      --hover-bg-color: #E2EBFA;\n",
              "      --hover-fill-color: #174EA6;\n",
              "      --disabled-fill-color: #AAA;\n",
              "      --disabled-bg-color: #DDD;\n",
              "  }\n",
              "\n",
              "  [theme=dark] .colab-df-quickchart {\n",
              "      --bg-color: #3B4455;\n",
              "      --fill-color: #D2E3FC;\n",
              "      --hover-bg-color: #434B5C;\n",
              "      --hover-fill-color: #FFFFFF;\n",
              "      --disabled-bg-color: #3B4455;\n",
              "      --disabled-fill-color: #666;\n",
              "  }\n",
              "\n",
              "  .colab-df-quickchart {\n",
              "    background-color: var(--bg-color);\n",
              "    border: none;\n",
              "    border-radius: 50%;\n",
              "    cursor: pointer;\n",
              "    display: none;\n",
              "    fill: var(--fill-color);\n",
              "    height: 32px;\n",
              "    padding: 0;\n",
              "    width: 32px;\n",
              "  }\n",
              "\n",
              "  .colab-df-quickchart:hover {\n",
              "    background-color: var(--hover-bg-color);\n",
              "    box-shadow: 0 1px 2px rgba(60, 64, 67, 0.3), 0 1px 3px 1px rgba(60, 64, 67, 0.15);\n",
              "    fill: var(--button-hover-fill-color);\n",
              "  }\n",
              "\n",
              "  .colab-df-quickchart-complete:disabled,\n",
              "  .colab-df-quickchart-complete:disabled:hover {\n",
              "    background-color: var(--disabled-bg-color);\n",
              "    fill: var(--disabled-fill-color);\n",
              "    box-shadow: none;\n",
              "  }\n",
              "\n",
              "  .colab-df-spinner {\n",
              "    border: 2px solid var(--fill-color);\n",
              "    border-color: transparent;\n",
              "    border-bottom-color: var(--fill-color);\n",
              "    animation:\n",
              "      spin 1s steps(1) infinite;\n",
              "  }\n",
              "\n",
              "  @keyframes spin {\n",
              "    0% {\n",
              "      border-color: transparent;\n",
              "      border-bottom-color: var(--fill-color);\n",
              "      border-left-color: var(--fill-color);\n",
              "    }\n",
              "    20% {\n",
              "      border-color: transparent;\n",
              "      border-left-color: var(--fill-color);\n",
              "      border-top-color: var(--fill-color);\n",
              "    }\n",
              "    30% {\n",
              "      border-color: transparent;\n",
              "      border-left-color: var(--fill-color);\n",
              "      border-top-color: var(--fill-color);\n",
              "      border-right-color: var(--fill-color);\n",
              "    }\n",
              "    40% {\n",
              "      border-color: transparent;\n",
              "      border-right-color: var(--fill-color);\n",
              "      border-top-color: var(--fill-color);\n",
              "    }\n",
              "    60% {\n",
              "      border-color: transparent;\n",
              "      border-right-color: var(--fill-color);\n",
              "    }\n",
              "    80% {\n",
              "      border-color: transparent;\n",
              "      border-right-color: var(--fill-color);\n",
              "      border-bottom-color: var(--fill-color);\n",
              "    }\n",
              "    90% {\n",
              "      border-color: transparent;\n",
              "      border-bottom-color: var(--fill-color);\n",
              "    }\n",
              "  }\n",
              "</style>\n",
              "\n",
              "  <script>\n",
              "    async function quickchart(key) {\n",
              "      const quickchartButtonEl =\n",
              "        document.querySelector('#' + key + ' button');\n",
              "      quickchartButtonEl.disabled = true;  // To prevent multiple clicks.\n",
              "      quickchartButtonEl.classList.add('colab-df-spinner');\n",
              "      try {\n",
              "        const charts = await google.colab.kernel.invokeFunction(\n",
              "            'suggestCharts', [key], {});\n",
              "      } catch (error) {\n",
              "        console.error('Error during call to suggestCharts:', error);\n",
              "      }\n",
              "      quickchartButtonEl.classList.remove('colab-df-spinner');\n",
              "      quickchartButtonEl.classList.add('colab-df-quickchart-complete');\n",
              "    }\n",
              "    (() => {\n",
              "      let quickchartButtonEl =\n",
              "        document.querySelector('#df-6cd3ce24-7fef-44f5-85c3-3e223d3a2b36 button');\n",
              "      quickchartButtonEl.style.display =\n",
              "        google.colab.kernel.accessAllowed ? 'block' : 'none';\n",
              "    })();\n",
              "  </script>\n",
              "</div>\n",
              "    </div>\n",
              "  </div>\n"
            ]
          },
          "metadata": {},
          "execution_count": 106
        }
      ]
    },
    {
      "cell_type": "code",
      "source": [
        "KS = max(df_actual_predicted['Cumulative Perc Good'] - df_actual_predicted['Cumulative Perc Bad'])\n",
        "\n",
        "plt.plot(df_actual_predicted['y_pred_proba'], df_actual_predicted['Cumulative Perc Bad'], color='r')\n",
        "plt.plot(df_actual_predicted['y_pred_proba'], df_actual_predicted['Cumulative Perc Good'], color='b')\n",
        "plt.xlabel('Estimated Probability for Being Bad')\n",
        "plt.ylabel('Cumulative %')\n",
        "plt.title('Kolmogorov-Smirnov:  %0.4f' %KS)\n",
        "plt.show()"
      ],
      "metadata": {
        "colab": {
          "base_uri": "https://localhost:8080/",
          "height": 472
        },
        "id": "lpI8hSnTWrWE",
        "outputId": "51cb5c80-40d4-4a33-8d84-117e4e4973a2"
      },
      "id": "lpI8hSnTWrWE",
      "execution_count": null,
      "outputs": [
        {
          "output_type": "display_data",
          "data": {
            "text/plain": [
              "<Figure size 640x480 with 1 Axes>"
            ],
            "image/png": "[encoded data removed]"
          },
          "metadata": {}
        }
      ]
    }
  ],
  "metadata": {
    "kernelspec": {
      "display_name": "Python 3",
      "name": "python3"
    },
    "language_info": {
      "codemirror_mode": {
        "name": "ipython",
        "version": 3
      },
      "file_extension": ".py",
      "mimetype": "text/x-python",
      "name": "python",
      "nbconvert_exporter": "python",
      "pygments_lexer": "ipython3",
      "version": "3.9.18"
    },
    "colab": {
      "provenance": [],
      "gpuType": "T4"
    }
  },
  "nbformat": 4,
  "nbformat_minor": 5
}